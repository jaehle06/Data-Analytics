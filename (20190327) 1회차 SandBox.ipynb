{
 "cells": [
  {
   "cell_type": "code",
   "execution_count": 3,
   "metadata": {},
   "outputs": [],
   "source": [
    "import pandas as pd"
   ]
  },
  {
   "cell_type": "markdown",
   "metadata": {},
   "source": [
    "## Series"
   ]
  },
  {
   "cell_type": "markdown",
   "metadata": {},
   "source": [
    "데이터 타입임. 파이썬의 리스트랑 같음 >> 묶어서 한방에 다룬다라는 것."
   ]
  },
  {
   "cell_type": "code",
   "execution_count": 4,
   "metadata": {},
   "outputs": [
    {
     "data": {
      "text/plain": [
       "[1, 2, 3, 4, 5]"
      ]
     },
     "execution_count": 4,
     "metadata": {},
     "output_type": "execute_result"
    }
   ],
   "source": [
    "#파이썬 리스트 형태\n",
    "odd = [1,2,3,4,5] \n",
    "odd"
   ]
  },
  {
   "cell_type": "code",
   "execution_count": 5,
   "metadata": {},
   "outputs": [
    {
     "data": {
      "text/plain": [
       "0    1\n",
       "1    2\n",
       "2    3\n",
       "3    4\n",
       "4    5\n",
       "dtype: int64"
      ]
     },
     "execution_count": 5,
     "metadata": {},
     "output_type": "execute_result"
    }
   ],
   "source": [
    "#판다스 시리즈 형태\n",
    "pd_odd = pd.Series(odd) \n",
    "pd_odd"
   ]
  },
  {
   "cell_type": "code",
   "execution_count": 6,
   "metadata": {},
   "outputs": [
    {
     "ename": "AttributeError",
     "evalue": "'list' object has no attribute 'mean'",
     "output_type": "error",
     "traceback": [
      "\u001b[0;31m---------------------------------------------------------------------------\u001b[0m",
      "\u001b[0;31mAttributeError\u001b[0m                            Traceback (most recent call last)",
      "\u001b[0;32m<ipython-input-6-6a486c61d9ce>\u001b[0m in \u001b[0;36m<module>\u001b[0;34m\u001b[0m\n\u001b[1;32m      1\u001b[0m \u001b[0;31m#그러면 왜 판다스 시리즈가 왜 필요하냐? 바꿔줘야 판다스에서 제공하는 전용기능을 쓸 수 있음\u001b[0m\u001b[0;34m\u001b[0m\u001b[0;34m\u001b[0m\u001b[0m\n\u001b[0;32m----> 2\u001b[0;31m \u001b[0modd\u001b[0m\u001b[0;34m.\u001b[0m\u001b[0mmean\u001b[0m\u001b[0;34m(\u001b[0m\u001b[0;34m)\u001b[0m\u001b[0;34m\u001b[0m\u001b[0m\n\u001b[0m",
      "\u001b[0;31mAttributeError\u001b[0m: 'list' object has no attribute 'mean'"
     ]
    }
   ],
   "source": [
    "#그러면 왜 판다스 시리즈가 왜 필요하냐? 바꿔줘야 판다스에서 제공하는 전용기능을 쓸 수 있음\n",
    "odd.mean()"
   ]
  },
  {
   "cell_type": "code",
   "execution_count": 19,
   "metadata": {},
   "outputs": [
    {
     "data": {
      "text/plain": [
       "3.0"
      ]
     },
     "execution_count": 19,
     "metadata": {},
     "output_type": "execute_result"
    }
   ],
   "source": [
    "pd_odd.mean()"
   ]
  },
  {
   "cell_type": "markdown",
   "metadata": {},
   "source": [
    "### DataFrame"
   ]
  },
  {
   "cell_type": "code",
   "execution_count": 20,
   "metadata": {},
   "outputs": [
    {
     "data": {
      "text/html": [
       "<div>\n",
       "<style scoped>\n",
       "    .dataframe tbody tr th:only-of-type {\n",
       "        vertical-align: middle;\n",
       "    }\n",
       "\n",
       "    .dataframe tbody tr th {\n",
       "        vertical-align: top;\n",
       "    }\n",
       "\n",
       "    .dataframe thead th {\n",
       "        text-align: right;\n",
       "    }\n",
       "</style>\n",
       "<table border=\"1\" class=\"dataframe\">\n",
       "  <thead>\n",
       "    <tr style=\"text-align: right;\">\n",
       "      <th></th>\n",
       "      <th>0</th>\n",
       "      <th>1</th>\n",
       "      <th>2</th>\n",
       "    </tr>\n",
       "  </thead>\n",
       "  <tbody>\n",
       "    <tr>\n",
       "      <th>0</th>\n",
       "      <td>1</td>\n",
       "      <td>2</td>\n",
       "      <td>3</td>\n",
       "    </tr>\n",
       "    <tr>\n",
       "      <th>1</th>\n",
       "      <td>4</td>\n",
       "      <td>5</td>\n",
       "      <td>6</td>\n",
       "    </tr>\n",
       "    <tr>\n",
       "      <th>2</th>\n",
       "      <td>7</td>\n",
       "      <td>8</td>\n",
       "      <td>9</td>\n",
       "    </tr>\n",
       "  </tbody>\n",
       "</table>\n",
       "</div>"
      ],
      "text/plain": [
       "   0  1  2\n",
       "0  1  2  3\n",
       "1  4  5  6\n",
       "2  7  8  9"
      ]
     },
     "execution_count": 20,
     "metadata": {},
     "output_type": "execute_result"
    }
   ],
   "source": [
    "# DF는 여러개의 시리즈로 이루어진 것\n",
    "numbers = [\n",
    "    [1,2,3],\n",
    "    [4,5,6],\n",
    "    [7,8,9]\n",
    "]\n",
    "numbers = pd.DataFrame(numbers)\n",
    "numbers"
   ]
  },
  {
   "cell_type": "code",
   "execution_count": 23,
   "metadata": {},
   "outputs": [
    {
     "data": {
      "text/plain": [
       "pandas.core.frame.DataFrame"
      ]
     },
     "execution_count": 23,
     "metadata": {},
     "output_type": "execute_result"
    }
   ],
   "source": [
    "type(numbers)"
   ]
  },
  {
   "cell_type": "code",
   "execution_count": 24,
   "metadata": {},
   "outputs": [
    {
     "data": {
      "text/plain": [
       "0    1\n",
       "1    4\n",
       "2    7\n",
       "Name: 0, dtype: int64"
      ]
     },
     "execution_count": 24,
     "metadata": {},
     "output_type": "execute_result"
    }
   ],
   "source": [
    "numbers[0]"
   ]
  },
  {
   "cell_type": "code",
   "execution_count": 26,
   "metadata": {},
   "outputs": [
    {
     "data": {
      "text/plain": [
       "pandas.core.series.Series"
      ]
     },
     "execution_count": 26,
     "metadata": {},
     "output_type": "execute_result"
    }
   ],
   "source": [
    "type(numbers[0])"
   ]
  },
  {
   "cell_type": "code",
   "execution_count": 27,
   "metadata": {},
   "outputs": [
    {
     "data": {
      "text/plain": [
       "pandas.core.series.Series"
      ]
     },
     "execution_count": 27,
     "metadata": {},
     "output_type": "execute_result"
    }
   ],
   "source": [
    "type(numbers.loc[0])"
   ]
  },
  {
   "cell_type": "markdown",
   "metadata": {},
   "source": [
    "### 생성하기"
   ]
  },
  {
   "cell_type": "code",
   "execution_count": 51,
   "metadata": {},
   "outputs": [
    {
     "data": {
      "text/html": [
       "<div>\n",
       "<style scoped>\n",
       "    .dataframe tbody tr th:only-of-type {\n",
       "        vertical-align: middle;\n",
       "    }\n",
       "\n",
       "    .dataframe tbody tr th {\n",
       "        vertical-align: top;\n",
       "    }\n",
       "\n",
       "    .dataframe thead th {\n",
       "        text-align: right;\n",
       "    }\n",
       "</style>\n",
       "<table border=\"1\" class=\"dataframe\">\n",
       "  <thead>\n",
       "    <tr style=\"text-align: right;\">\n",
       "      <th></th>\n",
       "      <th>date</th>\n",
       "      <th>price</th>\n",
       "      <th>state</th>\n",
       "    </tr>\n",
       "    <tr>\n",
       "      <th>Name</th>\n",
       "      <th></th>\n",
       "      <th></th>\n",
       "      <th></th>\n",
       "    </tr>\n",
       "  </thead>\n",
       "  <tbody>\n",
       "    <tr>\n",
       "      <th>Kang</th>\n",
       "      <td>2017-01-01</td>\n",
       "      <td>500</td>\n",
       "      <td>confirmed</td>\n",
       "    </tr>\n",
       "    <tr>\n",
       "      <th>Kim</th>\n",
       "      <td>2017-01-03</td>\n",
       "      <td>700</td>\n",
       "      <td>confirmed</td>\n",
       "    </tr>\n",
       "    <tr>\n",
       "      <th>Choi</th>\n",
       "      <td>2017-01-03</td>\n",
       "      <td>900</td>\n",
       "      <td>confirmed</td>\n",
       "    </tr>\n",
       "    <tr>\n",
       "      <th>Park</th>\n",
       "      <td>2017-01-05</td>\n",
       "      <td>800</td>\n",
       "      <td>confirmed</td>\n",
       "    </tr>\n",
       "    <tr>\n",
       "      <th>Lee</th>\n",
       "      <td>2017-01-07</td>\n",
       "      <td>500</td>\n",
       "      <td>canceled</td>\n",
       "    </tr>\n",
       "    <tr>\n",
       "      <th>Yoon</th>\n",
       "      <td>2017-01-09</td>\n",
       "      <td>700</td>\n",
       "      <td>confirmed</td>\n",
       "    </tr>\n",
       "    <tr>\n",
       "      <th>Jang</th>\n",
       "      <td>2017-01-09</td>\n",
       "      <td>600</td>\n",
       "      <td>canceled</td>\n",
       "    </tr>\n",
       "    <tr>\n",
       "      <th>Ko</th>\n",
       "      <td>2017-01-10</td>\n",
       "      <td>200</td>\n",
       "      <td>canceled</td>\n",
       "    </tr>\n",
       "  </tbody>\n",
       "</table>\n",
       "</div>"
      ],
      "text/plain": [
       "            date  price      state\n",
       "Name                              \n",
       "Kang  2017-01-01    500  confirmed\n",
       "Kim   2017-01-03    700  confirmed\n",
       "Choi  2017-01-03    900  confirmed\n",
       "Park  2017-01-05    800  confirmed\n",
       "Lee   2017-01-07    500   canceled\n",
       "Yoon  2017-01-09    700  confirmed\n",
       "Jang  2017-01-09    600   canceled\n",
       "Ko    2017-01-10    200   canceled"
      ]
     },
     "execution_count": 51,
     "metadata": {},
     "output_type": "execute_result"
    }
   ],
   "source": [
    "transaction_url = \"transaction (1).csv\"\n",
    "transaction = pd.read_csv(transaction_url, index_col = \"Name\")\n",
    "transaction"
   ]
  },
  {
   "cell_type": "code",
   "execution_count": 52,
   "metadata": {},
   "outputs": [
    {
     "data": {
      "text/plain": [
       "Index(['Kang', 'Kim', 'Choi', 'Park', 'Lee', 'Yoon', 'Jang', 'Ko'], dtype='object', name='Name')"
      ]
     },
     "execution_count": 52,
     "metadata": {},
     "output_type": "execute_result"
    }
   ],
   "source": [
    "transaction.index"
   ]
  },
  {
   "cell_type": "code",
   "execution_count": 53,
   "metadata": {},
   "outputs": [
    {
     "data": {
      "text/plain": [
       "array([['2017-01-01', 500, 'confirmed'],\n",
       "       ['2017-01-03', 700, 'confirmed'],\n",
       "       ['2017-01-03', 900, 'confirmed'],\n",
       "       ['2017-01-05', 800, 'confirmed'],\n",
       "       ['2017-01-07', 500, 'canceled'],\n",
       "       ['2017-01-09', 700, 'confirmed'],\n",
       "       ['2017-01-09', 600, 'canceled'],\n",
       "       ['2017-01-10', 200, 'canceled']], dtype=object)"
      ]
     },
     "execution_count": 53,
     "metadata": {},
     "output_type": "execute_result"
    }
   ],
   "source": [
    "transaction.values"
   ]
  },
  {
   "cell_type": "code",
   "execution_count": 54,
   "metadata": {},
   "outputs": [
    {
     "data": {
      "text/html": [
       "<div>\n",
       "<style scoped>\n",
       "    .dataframe tbody tr th:only-of-type {\n",
       "        vertical-align: middle;\n",
       "    }\n",
       "\n",
       "    .dataframe tbody tr th {\n",
       "        vertical-align: top;\n",
       "    }\n",
       "\n",
       "    .dataframe thead th {\n",
       "        text-align: right;\n",
       "    }\n",
       "</style>\n",
       "<table border=\"1\" class=\"dataframe\">\n",
       "  <thead>\n",
       "    <tr style=\"text-align: right;\">\n",
       "      <th></th>\n",
       "      <th>date</th>\n",
       "      <th>amount</th>\n",
       "      <th>result</th>\n",
       "    </tr>\n",
       "    <tr>\n",
       "      <th>Name</th>\n",
       "      <th></th>\n",
       "      <th></th>\n",
       "      <th></th>\n",
       "    </tr>\n",
       "  </thead>\n",
       "  <tbody>\n",
       "    <tr>\n",
       "      <th>Kang</th>\n",
       "      <td>2017-01-01</td>\n",
       "      <td>500</td>\n",
       "      <td>confirmed</td>\n",
       "    </tr>\n",
       "    <tr>\n",
       "      <th>Kim</th>\n",
       "      <td>2017-01-03</td>\n",
       "      <td>700</td>\n",
       "      <td>confirmed</td>\n",
       "    </tr>\n",
       "    <tr>\n",
       "      <th>Choi</th>\n",
       "      <td>2017-01-03</td>\n",
       "      <td>900</td>\n",
       "      <td>confirmed</td>\n",
       "    </tr>\n",
       "    <tr>\n",
       "      <th>Park</th>\n",
       "      <td>2017-01-05</td>\n",
       "      <td>800</td>\n",
       "      <td>confirmed</td>\n",
       "    </tr>\n",
       "    <tr>\n",
       "      <th>Lee</th>\n",
       "      <td>2017-01-07</td>\n",
       "      <td>500</td>\n",
       "      <td>canceled</td>\n",
       "    </tr>\n",
       "    <tr>\n",
       "      <th>Yoon</th>\n",
       "      <td>2017-01-09</td>\n",
       "      <td>700</td>\n",
       "      <td>confirmed</td>\n",
       "    </tr>\n",
       "    <tr>\n",
       "      <th>Jang</th>\n",
       "      <td>2017-01-09</td>\n",
       "      <td>600</td>\n",
       "      <td>canceled</td>\n",
       "    </tr>\n",
       "    <tr>\n",
       "      <th>Ko</th>\n",
       "      <td>2017-01-10</td>\n",
       "      <td>200</td>\n",
       "      <td>canceled</td>\n",
       "    </tr>\n",
       "  </tbody>\n",
       "</table>\n",
       "</div>"
      ],
      "text/plain": [
       "            date  amount     result\n",
       "Name                               \n",
       "Kang  2017-01-01     500  confirmed\n",
       "Kim   2017-01-03     700  confirmed\n",
       "Choi  2017-01-03     900  confirmed\n",
       "Park  2017-01-05     800  confirmed\n",
       "Lee   2017-01-07     500   canceled\n",
       "Yoon  2017-01-09     700  confirmed\n",
       "Jang  2017-01-09     600   canceled\n",
       "Ko    2017-01-10     200   canceled"
      ]
     },
     "execution_count": 54,
     "metadata": {},
     "output_type": "execute_result"
    }
   ],
   "source": [
    "transaction.columns = [\"date\",\"amount\",\"result\"]\n",
    "transaction"
   ]
  },
  {
   "cell_type": "code",
   "execution_count": 56,
   "metadata": {},
   "outputs": [
    {
     "data": {
      "text/html": [
       "<div>\n",
       "<style scoped>\n",
       "    .dataframe tbody tr th:only-of-type {\n",
       "        vertical-align: middle;\n",
       "    }\n",
       "\n",
       "    .dataframe tbody tr th {\n",
       "        vertical-align: top;\n",
       "    }\n",
       "\n",
       "    .dataframe thead th {\n",
       "        text-align: right;\n",
       "    }\n",
       "</style>\n",
       "<table border=\"1\" class=\"dataframe\">\n",
       "  <thead>\n",
       "    <tr style=\"text-align: right;\">\n",
       "      <th></th>\n",
       "      <th>date</th>\n",
       "      <th>amount</th>\n",
       "      <th>result</th>\n",
       "    </tr>\n",
       "    <tr>\n",
       "      <th>Name</th>\n",
       "      <th></th>\n",
       "      <th></th>\n",
       "      <th></th>\n",
       "    </tr>\n",
       "  </thead>\n",
       "  <tbody>\n",
       "    <tr>\n",
       "      <th>Kang</th>\n",
       "      <td>2017-01-01</td>\n",
       "      <td>500</td>\n",
       "      <td>confirmed</td>\n",
       "    </tr>\n",
       "    <tr>\n",
       "      <th>Kim</th>\n",
       "      <td>2017-01-03</td>\n",
       "      <td>700</td>\n",
       "      <td>confirmed</td>\n",
       "    </tr>\n",
       "    <tr>\n",
       "      <th>Choi</th>\n",
       "      <td>2017-01-03</td>\n",
       "      <td>900</td>\n",
       "      <td>confirmed</td>\n",
       "    </tr>\n",
       "    <tr>\n",
       "      <th>Park</th>\n",
       "      <td>2017-01-05</td>\n",
       "      <td>800</td>\n",
       "      <td>confirmed</td>\n",
       "    </tr>\n",
       "    <tr>\n",
       "      <th>Lee</th>\n",
       "      <td>2017-01-07</td>\n",
       "      <td>500</td>\n",
       "      <td>canceled</td>\n",
       "    </tr>\n",
       "  </tbody>\n",
       "</table>\n",
       "</div>"
      ],
      "text/plain": [
       "            date  amount     result\n",
       "Name                               \n",
       "Kang  2017-01-01     500  confirmed\n",
       "Kim   2017-01-03     700  confirmed\n",
       "Choi  2017-01-03     900  confirmed\n",
       "Park  2017-01-05     800  confirmed\n",
       "Lee   2017-01-07     500   canceled"
      ]
     },
     "execution_count": 56,
     "metadata": {},
     "output_type": "execute_result"
    }
   ],
   "source": [
    "transaction.head(5)"
   ]
  },
  {
   "cell_type": "markdown",
   "metadata": {},
   "source": [
    "### 기본연산"
   ]
  },
  {
   "cell_type": "code",
   "execution_count": 58,
   "metadata": {},
   "outputs": [
    {
     "data": {
      "text/plain": [
       "612.5"
      ]
     },
     "execution_count": 58,
     "metadata": {},
     "output_type": "execute_result"
    }
   ],
   "source": [
    "transaction[\"amount\"].mean()"
   ]
  },
  {
   "cell_type": "code",
   "execution_count": 59,
   "metadata": {},
   "outputs": [
    {
     "data": {
      "text/plain": [
       "900"
      ]
     },
     "execution_count": 59,
     "metadata": {},
     "output_type": "execute_result"
    }
   ],
   "source": [
    "transaction[\"amount\"].max()"
   ]
  },
  {
   "cell_type": "code",
   "execution_count": 60,
   "metadata": {},
   "outputs": [
    {
     "data": {
      "text/plain": [
       "200"
      ]
     },
     "execution_count": 60,
     "metadata": {},
     "output_type": "execute_result"
    }
   ],
   "source": [
    "transaction[\"amount\"].min()"
   ]
  },
  {
   "cell_type": "code",
   "execution_count": 62,
   "metadata": {},
   "outputs": [
    {
     "data": {
      "text/plain": [
       "Name\n",
       "Kang    confirmed\n",
       "Kim     confirmed\n",
       "Choi    confirmed\n",
       "Park    confirmed\n",
       "Lee      canceled\n",
       "Yoon    confirmed\n",
       "Jang     canceled\n",
       "Ko       canceled\n",
       "Name: result, dtype: object"
      ]
     },
     "execution_count": 62,
     "metadata": {},
     "output_type": "execute_result"
    }
   ],
   "source": [
    "transaction[\"result\"] # 종류가 2가지 만개 십만개 백만개면 종류가 몇 개인지 파악이 안됨"
   ]
  },
  {
   "cell_type": "code",
   "execution_count": 63,
   "metadata": {},
   "outputs": [
    {
     "data": {
      "text/plain": [
       "array(['confirmed', 'canceled'], dtype=object)"
      ]
     },
     "execution_count": 63,
     "metadata": {},
     "output_type": "execute_result"
    }
   ],
   "source": [
    "transaction[\"result\"].unique() #중복제거하고 종류를 파악할 수 있음"
   ]
  },
  {
   "cell_type": "code",
   "execution_count": 65,
   "metadata": {},
   "outputs": [
    {
     "data": {
      "text/plain": [
       "confirmed    5\n",
       "canceled     3\n",
       "Name: result, dtype: int64"
      ]
     },
     "execution_count": 65,
     "metadata": {},
     "output_type": "execute_result"
    }
   ],
   "source": [
    "transaction[\"result\"].value_counts() "
   ]
  },
  {
   "cell_type": "code",
   "execution_count": 70,
   "metadata": {},
   "outputs": [
    {
     "data": {
      "text/html": [
       "<div>\n",
       "<style scoped>\n",
       "    .dataframe tbody tr th:only-of-type {\n",
       "        vertical-align: middle;\n",
       "    }\n",
       "\n",
       "    .dataframe tbody tr th {\n",
       "        vertical-align: top;\n",
       "    }\n",
       "\n",
       "    .dataframe thead th {\n",
       "        text-align: right;\n",
       "    }\n",
       "</style>\n",
       "<table border=\"1\" class=\"dataframe\">\n",
       "  <thead>\n",
       "    <tr style=\"text-align: right;\">\n",
       "      <th></th>\n",
       "      <th>date</th>\n",
       "      <th>amount</th>\n",
       "      <th>result</th>\n",
       "    </tr>\n",
       "    <tr>\n",
       "      <th>Name</th>\n",
       "      <th></th>\n",
       "      <th></th>\n",
       "      <th></th>\n",
       "    </tr>\n",
       "  </thead>\n",
       "  <tbody>\n",
       "    <tr>\n",
       "      <th>Kang</th>\n",
       "      <td>2017-01-01</td>\n",
       "      <td>500</td>\n",
       "      <td>confirmed</td>\n",
       "    </tr>\n",
       "    <tr>\n",
       "      <th>Kim</th>\n",
       "      <td>2017-01-03</td>\n",
       "      <td>700</td>\n",
       "      <td>confirmed</td>\n",
       "    </tr>\n",
       "    <tr>\n",
       "      <th>Choi</th>\n",
       "      <td>2017-01-03</td>\n",
       "      <td>900</td>\n",
       "      <td>confirmed</td>\n",
       "    </tr>\n",
       "    <tr>\n",
       "      <th>Park</th>\n",
       "      <td>2017-01-05</td>\n",
       "      <td>800</td>\n",
       "      <td>confirmed</td>\n",
       "    </tr>\n",
       "    <tr>\n",
       "      <th>Lee</th>\n",
       "      <td>2017-01-07</td>\n",
       "      <td>500</td>\n",
       "      <td>canceled</td>\n",
       "    </tr>\n",
       "    <tr>\n",
       "      <th>Yoon</th>\n",
       "      <td>2017-01-09</td>\n",
       "      <td>700</td>\n",
       "      <td>confirmed</td>\n",
       "    </tr>\n",
       "    <tr>\n",
       "      <th>Jang</th>\n",
       "      <td>2017-01-09</td>\n",
       "      <td>600</td>\n",
       "      <td>canceled</td>\n",
       "    </tr>\n",
       "    <tr>\n",
       "      <th>Ko</th>\n",
       "      <td>2017-01-10</td>\n",
       "      <td>200</td>\n",
       "      <td>canceled</td>\n",
       "    </tr>\n",
       "  </tbody>\n",
       "</table>\n",
       "</div>"
      ],
      "text/plain": [
       "            date  amount     result\n",
       "Name                               \n",
       "Kang  2017-01-01     500  confirmed\n",
       "Kim   2017-01-03     700  confirmed\n",
       "Choi  2017-01-03     900  confirmed\n",
       "Park  2017-01-05     800  confirmed\n",
       "Lee   2017-01-07     500   canceled\n",
       "Yoon  2017-01-09     700  confirmed\n",
       "Jang  2017-01-09     600   canceled\n",
       "Ko    2017-01-10     200   canceled"
      ]
     },
     "execution_count": 70,
     "metadata": {},
     "output_type": "execute_result"
    }
   ],
   "source": [
    "transaction[\"result\"].replace(\"canceled\", \"cancelled\")\n",
    "transaction\n",
    "#이렇게 하면 안바뀌고 "
   ]
  },
  {
   "cell_type": "code",
   "execution_count": 71,
   "metadata": {},
   "outputs": [
    {
     "data": {
      "text/html": [
       "<div>\n",
       "<style scoped>\n",
       "    .dataframe tbody tr th:only-of-type {\n",
       "        vertical-align: middle;\n",
       "    }\n",
       "\n",
       "    .dataframe tbody tr th {\n",
       "        vertical-align: top;\n",
       "    }\n",
       "\n",
       "    .dataframe thead th {\n",
       "        text-align: right;\n",
       "    }\n",
       "</style>\n",
       "<table border=\"1\" class=\"dataframe\">\n",
       "  <thead>\n",
       "    <tr style=\"text-align: right;\">\n",
       "      <th></th>\n",
       "      <th>date</th>\n",
       "      <th>amount</th>\n",
       "      <th>result</th>\n",
       "    </tr>\n",
       "    <tr>\n",
       "      <th>Name</th>\n",
       "      <th></th>\n",
       "      <th></th>\n",
       "      <th></th>\n",
       "    </tr>\n",
       "  </thead>\n",
       "  <tbody>\n",
       "    <tr>\n",
       "      <th>Kang</th>\n",
       "      <td>2017-01-01</td>\n",
       "      <td>500</td>\n",
       "      <td>confirmed</td>\n",
       "    </tr>\n",
       "    <tr>\n",
       "      <th>Kim</th>\n",
       "      <td>2017-01-03</td>\n",
       "      <td>700</td>\n",
       "      <td>confirmed</td>\n",
       "    </tr>\n",
       "    <tr>\n",
       "      <th>Choi</th>\n",
       "      <td>2017-01-03</td>\n",
       "      <td>900</td>\n",
       "      <td>confirmed</td>\n",
       "    </tr>\n",
       "    <tr>\n",
       "      <th>Park</th>\n",
       "      <td>2017-01-05</td>\n",
       "      <td>800</td>\n",
       "      <td>confirmed</td>\n",
       "    </tr>\n",
       "    <tr>\n",
       "      <th>Lee</th>\n",
       "      <td>2017-01-07</td>\n",
       "      <td>500</td>\n",
       "      <td>cancelled</td>\n",
       "    </tr>\n",
       "    <tr>\n",
       "      <th>Yoon</th>\n",
       "      <td>2017-01-09</td>\n",
       "      <td>700</td>\n",
       "      <td>confirmed</td>\n",
       "    </tr>\n",
       "    <tr>\n",
       "      <th>Jang</th>\n",
       "      <td>2017-01-09</td>\n",
       "      <td>600</td>\n",
       "      <td>cancelled</td>\n",
       "    </tr>\n",
       "    <tr>\n",
       "      <th>Ko</th>\n",
       "      <td>2017-01-10</td>\n",
       "      <td>200</td>\n",
       "      <td>cancelled</td>\n",
       "    </tr>\n",
       "  </tbody>\n",
       "</table>\n",
       "</div>"
      ],
      "text/plain": [
       "            date  amount     result\n",
       "Name                               \n",
       "Kang  2017-01-01     500  confirmed\n",
       "Kim   2017-01-03     700  confirmed\n",
       "Choi  2017-01-03     900  confirmed\n",
       "Park  2017-01-05     800  confirmed\n",
       "Lee   2017-01-07     500  cancelled\n",
       "Yoon  2017-01-09     700  confirmed\n",
       "Jang  2017-01-09     600  cancelled\n",
       "Ko    2017-01-10     200  cancelled"
      ]
     },
     "execution_count": 71,
     "metadata": {},
     "output_type": "execute_result"
    }
   ],
   "source": [
    "transaction[\"result\"] = transaction[\"result\"].replace(\"canceled\", \"cancelled\")\n",
    "transaction\n",
    "#이렇게 해야 데이터가 바뀜 명시적으로 이렇게 선언해주어야함"
   ]
  },
  {
   "cell_type": "code",
   "execution_count": 79,
   "metadata": {},
   "outputs": [
    {
     "data": {
      "text/plain": [
       "Name\n",
       "Kang    2017\n",
       "Kim     2017\n",
       "Choi    2017\n",
       "Park    2017\n",
       "Lee     2017\n",
       "Yoon    2017\n",
       "Jang    2017\n",
       "Ko      2017\n",
       "Name: date, dtype: int64"
      ]
     },
     "execution_count": 79,
     "metadata": {},
     "output_type": "execute_result"
    }
   ],
   "source": [
    "transaction[\"date\"] = pd.to_datetime(transaction[\"date\"])\n",
    "transaction[\"date\"].dt.year #month/day"
   ]
  },
  {
   "cell_type": "markdown",
   "metadata": {},
   "source": [
    "## 행렬 검색"
   ]
  },
  {
   "cell_type": "code",
   "execution_count": 81,
   "metadata": {},
   "outputs": [
    {
     "data": {
      "text/plain": [
       "Name\n",
       "Kang   2017-01-01\n",
       "Kim    2017-01-03\n",
       "Choi   2017-01-03\n",
       "Park   2017-01-05\n",
       "Lee    2017-01-07\n",
       "Yoon   2017-01-09\n",
       "Jang   2017-01-09\n",
       "Ko     2017-01-10\n",
       "Name: date, dtype: datetime64[ns]"
      ]
     },
     "execution_count": 81,
     "metadata": {},
     "output_type": "execute_result"
    }
   ],
   "source": [
    "transaction[\"date\"] #컬럼 하나 가져오는 것"
   ]
  },
  {
   "cell_type": "code",
   "execution_count": 83,
   "metadata": {},
   "outputs": [
    {
     "data": {
      "text/plain": [
       "pandas.core.frame.DataFrame"
      ]
     },
     "execution_count": 83,
     "metadata": {},
     "output_type": "execute_result"
    }
   ],
   "source": [
    "type(transaction)"
   ]
  },
  {
   "cell_type": "code",
   "execution_count": 85,
   "metadata": {},
   "outputs": [
    {
     "data": {
      "text/plain": [
       "pandas.core.frame.DataFrame"
      ]
     },
     "execution_count": 85,
     "metadata": {},
     "output_type": "execute_result"
    }
   ],
   "source": [
    "#컬럼을 하나 접근하면 시리즈 여러개 접근하면 데이터 프레임\n",
    "type(transaction[[\"date\",\"amount\"]])"
   ]
  },
  {
   "cell_type": "code",
   "execution_count": 86,
   "metadata": {},
   "outputs": [
    {
     "data": {
      "text/html": [
       "<div>\n",
       "<style scoped>\n",
       "    .dataframe tbody tr th:only-of-type {\n",
       "        vertical-align: middle;\n",
       "    }\n",
       "\n",
       "    .dataframe tbody tr th {\n",
       "        vertical-align: top;\n",
       "    }\n",
       "\n",
       "    .dataframe thead th {\n",
       "        text-align: right;\n",
       "    }\n",
       "</style>\n",
       "<table border=\"1\" class=\"dataframe\">\n",
       "  <thead>\n",
       "    <tr style=\"text-align: right;\">\n",
       "      <th></th>\n",
       "      <th>date</th>\n",
       "      <th>amount</th>\n",
       "    </tr>\n",
       "    <tr>\n",
       "      <th>Name</th>\n",
       "      <th></th>\n",
       "      <th></th>\n",
       "    </tr>\n",
       "  </thead>\n",
       "  <tbody>\n",
       "    <tr>\n",
       "      <th>Kang</th>\n",
       "      <td>2017-01-01</td>\n",
       "      <td>500</td>\n",
       "    </tr>\n",
       "    <tr>\n",
       "      <th>Kim</th>\n",
       "      <td>2017-01-03</td>\n",
       "      <td>700</td>\n",
       "    </tr>\n",
       "    <tr>\n",
       "      <th>Choi</th>\n",
       "      <td>2017-01-03</td>\n",
       "      <td>900</td>\n",
       "    </tr>\n",
       "    <tr>\n",
       "      <th>Park</th>\n",
       "      <td>2017-01-05</td>\n",
       "      <td>800</td>\n",
       "    </tr>\n",
       "    <tr>\n",
       "      <th>Lee</th>\n",
       "      <td>2017-01-07</td>\n",
       "      <td>500</td>\n",
       "    </tr>\n",
       "    <tr>\n",
       "      <th>Yoon</th>\n",
       "      <td>2017-01-09</td>\n",
       "      <td>700</td>\n",
       "    </tr>\n",
       "    <tr>\n",
       "      <th>Jang</th>\n",
       "      <td>2017-01-09</td>\n",
       "      <td>600</td>\n",
       "    </tr>\n",
       "    <tr>\n",
       "      <th>Ko</th>\n",
       "      <td>2017-01-10</td>\n",
       "      <td>200</td>\n",
       "    </tr>\n",
       "  </tbody>\n",
       "</table>\n",
       "</div>"
      ],
      "text/plain": [
       "           date  amount\n",
       "Name                   \n",
       "Kang 2017-01-01     500\n",
       "Kim  2017-01-03     700\n",
       "Choi 2017-01-03     900\n",
       "Park 2017-01-05     800\n",
       "Lee  2017-01-07     500\n",
       "Yoon 2017-01-09     700\n",
       "Jang 2017-01-09     600\n",
       "Ko   2017-01-10     200"
      ]
     },
     "execution_count": 86,
     "metadata": {},
     "output_type": "execute_result"
    }
   ],
   "source": [
    "transaction[[\"date\",\"amount\"]] #여러기 가져올 때 대괄호 2개 왜냐면 파이썬과 호환되게 하려고"
   ]
  },
  {
   "cell_type": "code",
   "execution_count": 87,
   "metadata": {},
   "outputs": [
    {
     "data": {
      "text/plain": [
       "['date', 'amount']"
      ]
     },
     "execution_count": 87,
     "metadata": {},
     "output_type": "execute_result"
    }
   ],
   "source": [
    "[\"date\",\"amount\"] # 파이썬의 리스트"
   ]
  },
  {
   "cell_type": "code",
   "execution_count": 88,
   "metadata": {},
   "outputs": [],
   "source": [
    "columns = [\"date\",\"amount\"] "
   ]
  },
  {
   "cell_type": "code",
   "execution_count": 89,
   "metadata": {},
   "outputs": [
    {
     "data": {
      "text/html": [
       "<div>\n",
       "<style scoped>\n",
       "    .dataframe tbody tr th:only-of-type {\n",
       "        vertical-align: middle;\n",
       "    }\n",
       "\n",
       "    .dataframe tbody tr th {\n",
       "        vertical-align: top;\n",
       "    }\n",
       "\n",
       "    .dataframe thead th {\n",
       "        text-align: right;\n",
       "    }\n",
       "</style>\n",
       "<table border=\"1\" class=\"dataframe\">\n",
       "  <thead>\n",
       "    <tr style=\"text-align: right;\">\n",
       "      <th></th>\n",
       "      <th>date</th>\n",
       "      <th>amount</th>\n",
       "    </tr>\n",
       "    <tr>\n",
       "      <th>Name</th>\n",
       "      <th></th>\n",
       "      <th></th>\n",
       "    </tr>\n",
       "  </thead>\n",
       "  <tbody>\n",
       "    <tr>\n",
       "      <th>Kang</th>\n",
       "      <td>2017-01-01</td>\n",
       "      <td>500</td>\n",
       "    </tr>\n",
       "    <tr>\n",
       "      <th>Kim</th>\n",
       "      <td>2017-01-03</td>\n",
       "      <td>700</td>\n",
       "    </tr>\n",
       "    <tr>\n",
       "      <th>Choi</th>\n",
       "      <td>2017-01-03</td>\n",
       "      <td>900</td>\n",
       "    </tr>\n",
       "    <tr>\n",
       "      <th>Park</th>\n",
       "      <td>2017-01-05</td>\n",
       "      <td>800</td>\n",
       "    </tr>\n",
       "    <tr>\n",
       "      <th>Lee</th>\n",
       "      <td>2017-01-07</td>\n",
       "      <td>500</td>\n",
       "    </tr>\n",
       "    <tr>\n",
       "      <th>Yoon</th>\n",
       "      <td>2017-01-09</td>\n",
       "      <td>700</td>\n",
       "    </tr>\n",
       "    <tr>\n",
       "      <th>Jang</th>\n",
       "      <td>2017-01-09</td>\n",
       "      <td>600</td>\n",
       "    </tr>\n",
       "    <tr>\n",
       "      <th>Ko</th>\n",
       "      <td>2017-01-10</td>\n",
       "      <td>200</td>\n",
       "    </tr>\n",
       "  </tbody>\n",
       "</table>\n",
       "</div>"
      ],
      "text/plain": [
       "           date  amount\n",
       "Name                   \n",
       "Kang 2017-01-01     500\n",
       "Kim  2017-01-03     700\n",
       "Choi 2017-01-03     900\n",
       "Park 2017-01-05     800\n",
       "Lee  2017-01-07     500\n",
       "Yoon 2017-01-09     700\n",
       "Jang 2017-01-09     600\n",
       "Ko   2017-01-10     200"
      ]
     },
     "execution_count": 89,
     "metadata": {},
     "output_type": "execute_result"
    }
   ],
   "source": [
    "transaction[columns]"
   ]
  },
  {
   "cell_type": "markdown",
   "metadata": {},
   "source": [
    "## row 검색"
   ]
  },
  {
   "cell_type": "code",
   "execution_count": 90,
   "metadata": {},
   "outputs": [
    {
     "data": {
      "text/plain": [
       "date      2017-01-01 00:00:00\n",
       "amount                    500\n",
       "result              confirmed\n",
       "Name: Kang, dtype: object"
      ]
     },
     "execution_count": 90,
     "metadata": {},
     "output_type": "execute_result"
    }
   ],
   "source": [
    "# 캉이란 사람 결제정보, 하나가져오면 시리즈, 여러개 가져오면 데이터 프레임\n",
    "transaction.loc[\"Kang\"]"
   ]
  },
  {
   "cell_type": "code",
   "execution_count": 91,
   "metadata": {},
   "outputs": [
    {
     "data": {
      "text/html": [
       "<div>\n",
       "<style scoped>\n",
       "    .dataframe tbody tr th:only-of-type {\n",
       "        vertical-align: middle;\n",
       "    }\n",
       "\n",
       "    .dataframe tbody tr th {\n",
       "        vertical-align: top;\n",
       "    }\n",
       "\n",
       "    .dataframe thead th {\n",
       "        text-align: right;\n",
       "    }\n",
       "</style>\n",
       "<table border=\"1\" class=\"dataframe\">\n",
       "  <thead>\n",
       "    <tr style=\"text-align: right;\">\n",
       "      <th></th>\n",
       "      <th>date</th>\n",
       "      <th>amount</th>\n",
       "      <th>result</th>\n",
       "    </tr>\n",
       "    <tr>\n",
       "      <th>Name</th>\n",
       "      <th></th>\n",
       "      <th></th>\n",
       "      <th></th>\n",
       "    </tr>\n",
       "  </thead>\n",
       "  <tbody>\n",
       "    <tr>\n",
       "      <th>Kang</th>\n",
       "      <td>2017-01-01</td>\n",
       "      <td>500</td>\n",
       "      <td>confirmed</td>\n",
       "    </tr>\n",
       "    <tr>\n",
       "      <th>Kim</th>\n",
       "      <td>2017-01-03</td>\n",
       "      <td>700</td>\n",
       "      <td>confirmed</td>\n",
       "    </tr>\n",
       "    <tr>\n",
       "      <th>Choi</th>\n",
       "      <td>2017-01-03</td>\n",
       "      <td>900</td>\n",
       "      <td>confirmed</td>\n",
       "    </tr>\n",
       "  </tbody>\n",
       "</table>\n",
       "</div>"
      ],
      "text/plain": [
       "           date  amount     result\n",
       "Name                              \n",
       "Kang 2017-01-01     500  confirmed\n",
       "Kim  2017-01-03     700  confirmed\n",
       "Choi 2017-01-03     900  confirmed"
      ]
     },
     "execution_count": 91,
     "metadata": {},
     "output_type": "execute_result"
    }
   ],
   "source": [
    "transaction.loc[[\"Kang\",\"Kim\",\"Choi\"]]"
   ]
  },
  {
   "cell_type": "code",
   "execution_count": 92,
   "metadata": {},
   "outputs": [
    {
     "data": {
      "text/plain": [
       "pandas.core.frame.DataFrame"
      ]
     },
     "execution_count": 92,
     "metadata": {},
     "output_type": "execute_result"
    }
   ],
   "source": [
    "type(transaction.loc[[\"Kang\",\"Kim\",\"Choi\"]])"
   ]
  },
  {
   "cell_type": "code",
   "execution_count": 93,
   "metadata": {},
   "outputs": [
    {
     "data": {
      "text/plain": [
       "pandas.core.series.Series"
      ]
     },
     "execution_count": 93,
     "metadata": {},
     "output_type": "execute_result"
    }
   ],
   "source": [
    "type(transaction.loc[\"Kang\"])"
   ]
  },
  {
   "cell_type": "code",
   "execution_count": 94,
   "metadata": {},
   "outputs": [
    {
     "data": {
      "text/html": [
       "<div>\n",
       "<style scoped>\n",
       "    .dataframe tbody tr th:only-of-type {\n",
       "        vertical-align: middle;\n",
       "    }\n",
       "\n",
       "    .dataframe tbody tr th {\n",
       "        vertical-align: top;\n",
       "    }\n",
       "\n",
       "    .dataframe thead th {\n",
       "        text-align: right;\n",
       "    }\n",
       "</style>\n",
       "<table border=\"1\" class=\"dataframe\">\n",
       "  <thead>\n",
       "    <tr style=\"text-align: right;\">\n",
       "      <th></th>\n",
       "      <th>date</th>\n",
       "      <th>amount</th>\n",
       "      <th>result</th>\n",
       "    </tr>\n",
       "    <tr>\n",
       "      <th>Name</th>\n",
       "      <th></th>\n",
       "      <th></th>\n",
       "      <th></th>\n",
       "    </tr>\n",
       "  </thead>\n",
       "  <tbody>\n",
       "    <tr>\n",
       "      <th>Kang</th>\n",
       "      <td>2017-01-01</td>\n",
       "      <td>500</td>\n",
       "      <td>confirmed</td>\n",
       "    </tr>\n",
       "    <tr>\n",
       "      <th>Kim</th>\n",
       "      <td>2017-01-03</td>\n",
       "      <td>700</td>\n",
       "      <td>confirmed</td>\n",
       "    </tr>\n",
       "    <tr>\n",
       "      <th>Choi</th>\n",
       "      <td>2017-01-03</td>\n",
       "      <td>900</td>\n",
       "      <td>confirmed</td>\n",
       "    </tr>\n",
       "  </tbody>\n",
       "</table>\n",
       "</div>"
      ],
      "text/plain": [
       "           date  amount     result\n",
       "Name                              \n",
       "Kang 2017-01-01     500  confirmed\n",
       "Kim  2017-01-03     700  confirmed\n",
       "Choi 2017-01-03     900  confirmed"
      ]
     },
     "execution_count": 94,
     "metadata": {},
     "output_type": "execute_result"
    }
   ],
   "source": [
    "name = [\"Kang\", \"Kim\", \"Choi\"]\n",
    "transaction.loc[name]"
   ]
  },
  {
   "cell_type": "markdown",
   "metadata": {},
   "source": [
    "## 행렬을 동시에 "
   ]
  },
  {
   "cell_type": "code",
   "execution_count": 101,
   "metadata": {},
   "outputs": [
    {
     "name": "stdout",
     "output_type": "stream",
     "text": [
      "152 µs ± 3.11 µs per loop (mean ± std. dev. of 7 runs, 10000 loops each)\n"
     ]
    }
   ],
   "source": [
    "# 1 번째 방식 권장하지 않음 대괄호 열었다 닫았다에 따라 실행이 되는거라..\n",
    "%timeit transaction.loc[\"Kang\"][\"date\"]"
   ]
  },
  {
   "cell_type": "code",
   "execution_count": 98,
   "metadata": {},
   "outputs": [
    {
     "name": "stdout",
     "output_type": "stream",
     "text": [
      "12.2 µs ± 273 ns per loop (mean ± std. dev. of 7 runs, 100000 loops each)\n"
     ]
    }
   ],
   "source": [
    "# 권장은\n",
    "%timeit transaction.loc[\"Kang\",\"date\"]"
   ]
  },
  {
   "cell_type": "code",
   "execution_count": 100,
   "metadata": {},
   "outputs": [
    {
     "name": "stdout",
     "output_type": "stream",
     "text": [
      "9.36 µs ± 529 ns per loop (mean ± std. dev. of 7 runs, 100000 loops each)\n"
     ]
    }
   ],
   "source": [
    "%timeit transaction.at[\"Kang\",\"date\"] #빠르지만, 한개씩 밖에 접근 못함 그 이상 가져오라면 loc"
   ]
  },
  {
   "cell_type": "markdown",
   "metadata": {},
   "source": [
    "## 색인 (판다스의 꽃)"
   ]
  },
  {
   "cell_type": "code",
   "execution_count": 105,
   "metadata": {},
   "outputs": [
    {
     "data": {
      "text/html": [
       "<div>\n",
       "<style scoped>\n",
       "    .dataframe tbody tr th:only-of-type {\n",
       "        vertical-align: middle;\n",
       "    }\n",
       "\n",
       "    .dataframe tbody tr th {\n",
       "        vertical-align: top;\n",
       "    }\n",
       "\n",
       "    .dataframe thead th {\n",
       "        text-align: right;\n",
       "    }\n",
       "</style>\n",
       "<table border=\"1\" class=\"dataframe\">\n",
       "  <thead>\n",
       "    <tr style=\"text-align: right;\">\n",
       "      <th></th>\n",
       "      <th>date</th>\n",
       "      <th>amount</th>\n",
       "      <th>result</th>\n",
       "    </tr>\n",
       "    <tr>\n",
       "      <th>Name</th>\n",
       "      <th></th>\n",
       "      <th></th>\n",
       "      <th></th>\n",
       "    </tr>\n",
       "  </thead>\n",
       "  <tbody>\n",
       "    <tr>\n",
       "      <th>Kim</th>\n",
       "      <td>2017-01-03</td>\n",
       "      <td>700</td>\n",
       "      <td>confirmed</td>\n",
       "    </tr>\n",
       "    <tr>\n",
       "      <th>Choi</th>\n",
       "      <td>2017-01-03</td>\n",
       "      <td>900</td>\n",
       "      <td>confirmed</td>\n",
       "    </tr>\n",
       "  </tbody>\n",
       "</table>\n",
       "</div>"
      ],
      "text/plain": [
       "           date  amount     result\n",
       "Name                              \n",
       "Kim  2017-01-03     700  confirmed\n",
       "Choi 2017-01-03     900  confirmed"
      ]
     },
     "execution_count": 105,
     "metadata": {},
     "output_type": "execute_result"
    }
   ],
   "source": [
    "transaction[transaction[\"date\"] == \"2017-01-03\"] # 색인 속도도 빠름"
   ]
  },
  {
   "cell_type": "code",
   "execution_count": 106,
   "metadata": {},
   "outputs": [
    {
     "data": {
      "text/html": [
       "<div>\n",
       "<style scoped>\n",
       "    .dataframe tbody tr th:only-of-type {\n",
       "        vertical-align: middle;\n",
       "    }\n",
       "\n",
       "    .dataframe tbody tr th {\n",
       "        vertical-align: top;\n",
       "    }\n",
       "\n",
       "    .dataframe thead th {\n",
       "        text-align: right;\n",
       "    }\n",
       "</style>\n",
       "<table border=\"1\" class=\"dataframe\">\n",
       "  <thead>\n",
       "    <tr style=\"text-align: right;\">\n",
       "      <th></th>\n",
       "      <th>date</th>\n",
       "      <th>amount</th>\n",
       "      <th>result</th>\n",
       "    </tr>\n",
       "    <tr>\n",
       "      <th>Name</th>\n",
       "      <th></th>\n",
       "      <th></th>\n",
       "      <th></th>\n",
       "    </tr>\n",
       "  </thead>\n",
       "  <tbody>\n",
       "    <tr>\n",
       "      <th>Kang</th>\n",
       "      <td>2017-01-01</td>\n",
       "      <td>500</td>\n",
       "      <td>confirmed</td>\n",
       "    </tr>\n",
       "    <tr>\n",
       "      <th>Lee</th>\n",
       "      <td>2017-01-07</td>\n",
       "      <td>500</td>\n",
       "      <td>cancelled</td>\n",
       "    </tr>\n",
       "    <tr>\n",
       "      <th>Ko</th>\n",
       "      <td>2017-01-10</td>\n",
       "      <td>200</td>\n",
       "      <td>cancelled</td>\n",
       "    </tr>\n",
       "  </tbody>\n",
       "</table>\n",
       "</div>"
      ],
      "text/plain": [
       "           date  amount     result\n",
       "Name                              \n",
       "Kang 2017-01-01     500  confirmed\n",
       "Lee  2017-01-07     500  cancelled\n",
       "Ko   2017-01-10     200  cancelled"
      ]
     },
     "execution_count": 106,
     "metadata": {},
     "output_type": "execute_result"
    }
   ],
   "source": [
    "transaction[transaction[\"amount\"] < 600]"
   ]
  },
  {
   "cell_type": "code",
   "execution_count": 107,
   "metadata": {},
   "outputs": [
    {
     "data": {
      "text/html": [
       "<div>\n",
       "<style scoped>\n",
       "    .dataframe tbody tr th:only-of-type {\n",
       "        vertical-align: middle;\n",
       "    }\n",
       "\n",
       "    .dataframe tbody tr th {\n",
       "        vertical-align: top;\n",
       "    }\n",
       "\n",
       "    .dataframe thead th {\n",
       "        text-align: right;\n",
       "    }\n",
       "</style>\n",
       "<table border=\"1\" class=\"dataframe\">\n",
       "  <thead>\n",
       "    <tr style=\"text-align: right;\">\n",
       "      <th></th>\n",
       "      <th>date</th>\n",
       "      <th>amount</th>\n",
       "      <th>result</th>\n",
       "    </tr>\n",
       "    <tr>\n",
       "      <th>Name</th>\n",
       "      <th></th>\n",
       "      <th></th>\n",
       "      <th></th>\n",
       "    </tr>\n",
       "  </thead>\n",
       "  <tbody>\n",
       "    <tr>\n",
       "      <th>Kang</th>\n",
       "      <td>2017-01-01</td>\n",
       "      <td>500</td>\n",
       "      <td>confirmed</td>\n",
       "    </tr>\n",
       "    <tr>\n",
       "      <th>Kim</th>\n",
       "      <td>2017-01-03</td>\n",
       "      <td>700</td>\n",
       "      <td>confirmed</td>\n",
       "    </tr>\n",
       "    <tr>\n",
       "      <th>Choi</th>\n",
       "      <td>2017-01-03</td>\n",
       "      <td>900</td>\n",
       "      <td>confirmed</td>\n",
       "    </tr>\n",
       "    <tr>\n",
       "      <th>Park</th>\n",
       "      <td>2017-01-05</td>\n",
       "      <td>800</td>\n",
       "      <td>confirmed</td>\n",
       "    </tr>\n",
       "    <tr>\n",
       "      <th>Lee</th>\n",
       "      <td>2017-01-07</td>\n",
       "      <td>500</td>\n",
       "      <td>cancelled</td>\n",
       "    </tr>\n",
       "    <tr>\n",
       "      <th>Yoon</th>\n",
       "      <td>2017-01-09</td>\n",
       "      <td>700</td>\n",
       "      <td>confirmed</td>\n",
       "    </tr>\n",
       "    <tr>\n",
       "      <th>Jang</th>\n",
       "      <td>2017-01-09</td>\n",
       "      <td>600</td>\n",
       "      <td>cancelled</td>\n",
       "    </tr>\n",
       "    <tr>\n",
       "      <th>Ko</th>\n",
       "      <td>2017-01-10</td>\n",
       "      <td>200</td>\n",
       "      <td>cancelled</td>\n",
       "    </tr>\n",
       "  </tbody>\n",
       "</table>\n",
       "</div>"
      ],
      "text/plain": [
       "           date  amount     result\n",
       "Name                              \n",
       "Kang 2017-01-01     500  confirmed\n",
       "Kim  2017-01-03     700  confirmed\n",
       "Choi 2017-01-03     900  confirmed\n",
       "Park 2017-01-05     800  confirmed\n",
       "Lee  2017-01-07     500  cancelled\n",
       "Yoon 2017-01-09     700  confirmed\n",
       "Jang 2017-01-09     600  cancelled\n",
       "Ko   2017-01-10     200  cancelled"
      ]
     },
     "execution_count": 107,
     "metadata": {},
     "output_type": "execute_result"
    }
   ],
   "source": [
    "transaction"
   ]
  },
  {
   "cell_type": "code",
   "execution_count": 108,
   "metadata": {},
   "outputs": [
    {
     "data": {
      "text/html": [
       "<div>\n",
       "<style scoped>\n",
       "    .dataframe tbody tr th:only-of-type {\n",
       "        vertical-align: middle;\n",
       "    }\n",
       "\n",
       "    .dataframe tbody tr th {\n",
       "        vertical-align: top;\n",
       "    }\n",
       "\n",
       "    .dataframe thead th {\n",
       "        text-align: right;\n",
       "    }\n",
       "</style>\n",
       "<table border=\"1\" class=\"dataframe\">\n",
       "  <thead>\n",
       "    <tr style=\"text-align: right;\">\n",
       "      <th></th>\n",
       "      <th>date</th>\n",
       "      <th>amount</th>\n",
       "      <th>result</th>\n",
       "    </tr>\n",
       "    <tr>\n",
       "      <th>Name</th>\n",
       "      <th></th>\n",
       "      <th></th>\n",
       "      <th></th>\n",
       "    </tr>\n",
       "  </thead>\n",
       "  <tbody>\n",
       "    <tr>\n",
       "      <th>Kang</th>\n",
       "      <td>2017-01-01</td>\n",
       "      <td>500</td>\n",
       "      <td>confirmed</td>\n",
       "    </tr>\n",
       "    <tr>\n",
       "      <th>Kim</th>\n",
       "      <td>2017-01-03</td>\n",
       "      <td>700</td>\n",
       "      <td>confirmed</td>\n",
       "    </tr>\n",
       "    <tr>\n",
       "      <th>Choi</th>\n",
       "      <td>2017-01-03</td>\n",
       "      <td>900</td>\n",
       "      <td>confirmed</td>\n",
       "    </tr>\n",
       "    <tr>\n",
       "      <th>Yoon</th>\n",
       "      <td>2017-01-09</td>\n",
       "      <td>700</td>\n",
       "      <td>confirmed</td>\n",
       "    </tr>\n",
       "    <tr>\n",
       "      <th>Jang</th>\n",
       "      <td>2017-01-09</td>\n",
       "      <td>600</td>\n",
       "      <td>cancelled</td>\n",
       "    </tr>\n",
       "  </tbody>\n",
       "</table>\n",
       "</div>"
      ],
      "text/plain": [
       "           date  amount     result\n",
       "Name                              \n",
       "Kang 2017-01-01     500  confirmed\n",
       "Kim  2017-01-03     700  confirmed\n",
       "Choi 2017-01-03     900  confirmed\n",
       "Yoon 2017-01-09     700  confirmed\n",
       "Jang 2017-01-09     600  cancelled"
      ]
     },
     "execution_count": 108,
     "metadata": {},
     "output_type": "execute_result"
    }
   ],
   "source": [
    "# isin 이 세가지 후보에 해당하면 True, False\n",
    "date_candidate = [\"2017-01-01\",\"2017-01-03\",\"2017-01-09\"]\n",
    "transaction[transaction[\"date\"].isin(date_candidate)]"
   ]
  },
  {
   "cell_type": "code",
   "execution_count": 109,
   "metadata": {},
   "outputs": [
    {
     "data": {
      "text/html": [
       "<div>\n",
       "<style scoped>\n",
       "    .dataframe tbody tr th:only-of-type {\n",
       "        vertical-align: middle;\n",
       "    }\n",
       "\n",
       "    .dataframe tbody tr th {\n",
       "        vertical-align: top;\n",
       "    }\n",
       "\n",
       "    .dataframe thead th {\n",
       "        text-align: right;\n",
       "    }\n",
       "</style>\n",
       "<table border=\"1\" class=\"dataframe\">\n",
       "  <thead>\n",
       "    <tr style=\"text-align: right;\">\n",
       "      <th></th>\n",
       "      <th>date</th>\n",
       "      <th>amount</th>\n",
       "      <th>result</th>\n",
       "    </tr>\n",
       "    <tr>\n",
       "      <th>Name</th>\n",
       "      <th></th>\n",
       "      <th></th>\n",
       "      <th></th>\n",
       "    </tr>\n",
       "  </thead>\n",
       "  <tbody>\n",
       "    <tr>\n",
       "      <th>Kang</th>\n",
       "      <td>2017-01-01</td>\n",
       "      <td>500</td>\n",
       "      <td>confirmed</td>\n",
       "    </tr>\n",
       "    <tr>\n",
       "      <th>Kim</th>\n",
       "      <td>2017-01-03</td>\n",
       "      <td>700</td>\n",
       "      <td>confirmed</td>\n",
       "    </tr>\n",
       "    <tr>\n",
       "      <th>Choi</th>\n",
       "      <td>2017-01-03</td>\n",
       "      <td>900</td>\n",
       "      <td>confirmed</td>\n",
       "    </tr>\n",
       "    <tr>\n",
       "      <th>Park</th>\n",
       "      <td>2017-01-05</td>\n",
       "      <td>800</td>\n",
       "      <td>confirmed</td>\n",
       "    </tr>\n",
       "    <tr>\n",
       "      <th>Lee</th>\n",
       "      <td>2017-01-07</td>\n",
       "      <td>500</td>\n",
       "      <td>cancelled</td>\n",
       "    </tr>\n",
       "    <tr>\n",
       "      <th>Yoon</th>\n",
       "      <td>2017-01-09</td>\n",
       "      <td>700</td>\n",
       "      <td>confirmed</td>\n",
       "    </tr>\n",
       "    <tr>\n",
       "      <th>Jang</th>\n",
       "      <td>2017-01-09</td>\n",
       "      <td>600</td>\n",
       "      <td>cancelled</td>\n",
       "    </tr>\n",
       "    <tr>\n",
       "      <th>Ko</th>\n",
       "      <td>2017-01-10</td>\n",
       "      <td>200</td>\n",
       "      <td>cancelled</td>\n",
       "    </tr>\n",
       "  </tbody>\n",
       "</table>\n",
       "</div>"
      ],
      "text/plain": [
       "           date  amount     result\n",
       "Name                              \n",
       "Kang 2017-01-01     500  confirmed\n",
       "Kim  2017-01-03     700  confirmed\n",
       "Choi 2017-01-03     900  confirmed\n",
       "Park 2017-01-05     800  confirmed\n",
       "Lee  2017-01-07     500  cancelled\n",
       "Yoon 2017-01-09     700  confirmed\n",
       "Jang 2017-01-09     600  cancelled\n",
       "Ko   2017-01-10     200  cancelled"
      ]
     },
     "execution_count": 109,
     "metadata": {},
     "output_type": "execute_result"
    }
   ],
   "source": [
    "transaction"
   ]
  },
  {
   "cell_type": "code",
   "execution_count": 110,
   "metadata": {},
   "outputs": [
    {
     "data": {
      "text/html": [
       "<div>\n",
       "<style scoped>\n",
       "    .dataframe tbody tr th:only-of-type {\n",
       "        vertical-align: middle;\n",
       "    }\n",
       "\n",
       "    .dataframe tbody tr th {\n",
       "        vertical-align: top;\n",
       "    }\n",
       "\n",
       "    .dataframe thead th {\n",
       "        text-align: right;\n",
       "    }\n",
       "</style>\n",
       "<table border=\"1\" class=\"dataframe\">\n",
       "  <thead>\n",
       "    <tr style=\"text-align: right;\">\n",
       "      <th></th>\n",
       "      <th>date</th>\n",
       "      <th>amount</th>\n",
       "      <th>result</th>\n",
       "    </tr>\n",
       "    <tr>\n",
       "      <th>Name</th>\n",
       "      <th></th>\n",
       "      <th></th>\n",
       "      <th></th>\n",
       "    </tr>\n",
       "  </thead>\n",
       "  <tbody>\n",
       "    <tr>\n",
       "      <th>Kang</th>\n",
       "      <td>2017-01-01</td>\n",
       "      <td>500</td>\n",
       "      <td>confirmed</td>\n",
       "    </tr>\n",
       "    <tr>\n",
       "      <th>Kim</th>\n",
       "      <td>2017-01-03</td>\n",
       "      <td>700</td>\n",
       "      <td>confirmed</td>\n",
       "    </tr>\n",
       "    <tr>\n",
       "      <th>Choi</th>\n",
       "      <td>2017-01-03</td>\n",
       "      <td>900</td>\n",
       "      <td>confirmed</td>\n",
       "    </tr>\n",
       "    <tr>\n",
       "      <th>Park</th>\n",
       "      <td>2017-01-05</td>\n",
       "      <td>800</td>\n",
       "      <td>confirmed</td>\n",
       "    </tr>\n",
       "    <tr>\n",
       "      <th>Yoon</th>\n",
       "      <td>2017-01-09</td>\n",
       "      <td>700</td>\n",
       "      <td>confirmed</td>\n",
       "    </tr>\n",
       "  </tbody>\n",
       "</table>\n",
       "</div>"
      ],
      "text/plain": [
       "           date  amount     result\n",
       "Name                              \n",
       "Kang 2017-01-01     500  confirmed\n",
       "Kim  2017-01-03     700  confirmed\n",
       "Choi 2017-01-03     900  confirmed\n",
       "Park 2017-01-05     800  confirmed\n",
       "Yoon 2017-01-09     700  confirmed"
      ]
     },
     "execution_count": 110,
     "metadata": {},
     "output_type": "execute_result"
    }
   ],
   "source": [
    "# 2개이상 조건일 때 VIP 고객 찾을 때 깔끔하게!! >> 변수로 빼서 연산하자!!\n",
    "\n",
    "confirmed =transaction[\"result\"] ==\"confirmed\"\n",
    "high = transaction[\"amount\"] >=500\n",
    "\n",
    "# &(and, shift + 7)\n",
    "transaction[confirmed & high]"
   ]
  },
  {
   "cell_type": "code",
   "execution_count": 111,
   "metadata": {},
   "outputs": [
    {
     "data": {
      "text/html": [
       "<div>\n",
       "<style scoped>\n",
       "    .dataframe tbody tr th:only-of-type {\n",
       "        vertical-align: middle;\n",
       "    }\n",
       "\n",
       "    .dataframe tbody tr th {\n",
       "        vertical-align: top;\n",
       "    }\n",
       "\n",
       "    .dataframe thead th {\n",
       "        text-align: right;\n",
       "    }\n",
       "</style>\n",
       "<table border=\"1\" class=\"dataframe\">\n",
       "  <thead>\n",
       "    <tr style=\"text-align: right;\">\n",
       "      <th></th>\n",
       "      <th>date</th>\n",
       "      <th>amount</th>\n",
       "      <th>result</th>\n",
       "    </tr>\n",
       "    <tr>\n",
       "      <th>Name</th>\n",
       "      <th></th>\n",
       "      <th></th>\n",
       "      <th></th>\n",
       "    </tr>\n",
       "  </thead>\n",
       "  <tbody>\n",
       "    <tr>\n",
       "      <th>Kang</th>\n",
       "      <td>2017-01-01</td>\n",
       "      <td>500</td>\n",
       "      <td>confirmed</td>\n",
       "    </tr>\n",
       "    <tr>\n",
       "      <th>Kim</th>\n",
       "      <td>2017-01-03</td>\n",
       "      <td>700</td>\n",
       "      <td>confirmed</td>\n",
       "    </tr>\n",
       "    <tr>\n",
       "      <th>Choi</th>\n",
       "      <td>2017-01-03</td>\n",
       "      <td>900</td>\n",
       "      <td>confirmed</td>\n",
       "    </tr>\n",
       "    <tr>\n",
       "      <th>Park</th>\n",
       "      <td>2017-01-05</td>\n",
       "      <td>800</td>\n",
       "      <td>confirmed</td>\n",
       "    </tr>\n",
       "    <tr>\n",
       "      <th>Lee</th>\n",
       "      <td>2017-01-07</td>\n",
       "      <td>500</td>\n",
       "      <td>cancelled</td>\n",
       "    </tr>\n",
       "    <tr>\n",
       "      <th>Yoon</th>\n",
       "      <td>2017-01-09</td>\n",
       "      <td>700</td>\n",
       "      <td>confirmed</td>\n",
       "    </tr>\n",
       "    <tr>\n",
       "      <th>Jang</th>\n",
       "      <td>2017-01-09</td>\n",
       "      <td>600</td>\n",
       "      <td>cancelled</td>\n",
       "    </tr>\n",
       "  </tbody>\n",
       "</table>\n",
       "</div>"
      ],
      "text/plain": [
       "           date  amount     result\n",
       "Name                              \n",
       "Kang 2017-01-01     500  confirmed\n",
       "Kim  2017-01-03     700  confirmed\n",
       "Choi 2017-01-03     900  confirmed\n",
       "Park 2017-01-05     800  confirmed\n",
       "Lee  2017-01-07     500  cancelled\n",
       "Yoon 2017-01-09     700  confirmed\n",
       "Jang 2017-01-09     600  cancelled"
      ]
     },
     "execution_count": 111,
     "metadata": {},
     "output_type": "execute_result"
    }
   ],
   "source": [
    "# or조건\n",
    "transaction[confirmed | high]"
   ]
  },
  {
   "cell_type": "markdown",
   "metadata": {},
   "source": [
    "## 컬럼 추가 & 수정"
   ]
  },
  {
   "cell_type": "code",
   "execution_count": 113,
   "metadata": {},
   "outputs": [
    {
     "data": {
      "text/html": [
       "<div>\n",
       "<style scoped>\n",
       "    .dataframe tbody tr th:only-of-type {\n",
       "        vertical-align: middle;\n",
       "    }\n",
       "\n",
       "    .dataframe tbody tr th {\n",
       "        vertical-align: top;\n",
       "    }\n",
       "\n",
       "    .dataframe thead th {\n",
       "        text-align: right;\n",
       "    }\n",
       "</style>\n",
       "<table border=\"1\" class=\"dataframe\">\n",
       "  <thead>\n",
       "    <tr style=\"text-align: right;\">\n",
       "      <th></th>\n",
       "      <th>date</th>\n",
       "      <th>amount</th>\n",
       "      <th>result</th>\n",
       "      <th>card-holder</th>\n",
       "    </tr>\n",
       "    <tr>\n",
       "      <th>Name</th>\n",
       "      <th></th>\n",
       "      <th></th>\n",
       "      <th></th>\n",
       "      <th></th>\n",
       "    </tr>\n",
       "  </thead>\n",
       "  <tbody>\n",
       "    <tr>\n",
       "      <th>Kang</th>\n",
       "      <td>2017-01-01</td>\n",
       "      <td>500</td>\n",
       "      <td>confirmed</td>\n",
       "      <td>KB CARD</td>\n",
       "    </tr>\n",
       "    <tr>\n",
       "      <th>Kim</th>\n",
       "      <td>2017-01-03</td>\n",
       "      <td>700</td>\n",
       "      <td>confirmed</td>\n",
       "      <td>KB CARD</td>\n",
       "    </tr>\n",
       "    <tr>\n",
       "      <th>Choi</th>\n",
       "      <td>2017-01-03</td>\n",
       "      <td>900</td>\n",
       "      <td>confirmed</td>\n",
       "      <td>KB CARD</td>\n",
       "    </tr>\n",
       "    <tr>\n",
       "      <th>Park</th>\n",
       "      <td>2017-01-05</td>\n",
       "      <td>800</td>\n",
       "      <td>confirmed</td>\n",
       "      <td>KB CARD</td>\n",
       "    </tr>\n",
       "    <tr>\n",
       "      <th>Lee</th>\n",
       "      <td>2017-01-07</td>\n",
       "      <td>500</td>\n",
       "      <td>cancelled</td>\n",
       "      <td>KB CARD</td>\n",
       "    </tr>\n",
       "    <tr>\n",
       "      <th>Yoon</th>\n",
       "      <td>2017-01-09</td>\n",
       "      <td>700</td>\n",
       "      <td>confirmed</td>\n",
       "      <td>KB CARD</td>\n",
       "    </tr>\n",
       "    <tr>\n",
       "      <th>Jang</th>\n",
       "      <td>2017-01-09</td>\n",
       "      <td>600</td>\n",
       "      <td>cancelled</td>\n",
       "      <td>KB CARD</td>\n",
       "    </tr>\n",
       "    <tr>\n",
       "      <th>Ko</th>\n",
       "      <td>2017-01-10</td>\n",
       "      <td>200</td>\n",
       "      <td>cancelled</td>\n",
       "      <td>KB CARD</td>\n",
       "    </tr>\n",
       "  </tbody>\n",
       "</table>\n",
       "</div>"
      ],
      "text/plain": [
       "           date  amount     result card-holder\n",
       "Name                                          \n",
       "Kang 2017-01-01     500  confirmed     KB CARD\n",
       "Kim  2017-01-03     700  confirmed     KB CARD\n",
       "Choi 2017-01-03     900  confirmed     KB CARD\n",
       "Park 2017-01-05     800  confirmed     KB CARD\n",
       "Lee  2017-01-07     500  cancelled     KB CARD\n",
       "Yoon 2017-01-09     700  confirmed     KB CARD\n",
       "Jang 2017-01-09     600  cancelled     KB CARD\n",
       "Ko   2017-01-10     200  cancelled     KB CARD"
      ]
     },
     "execution_count": 113,
     "metadata": {},
     "output_type": "execute_result"
    }
   ],
   "source": [
    "# 추가, 수정 문법 똑같음 \n",
    "transaction[\"card-holder\"] = \"KB CARD\"\n",
    "transaction"
   ]
  },
  {
   "cell_type": "code",
   "execution_count": 116,
   "metadata": {},
   "outputs": [
    {
     "data": {
      "text/html": [
       "<div>\n",
       "<style scoped>\n",
       "    .dataframe tbody tr th:only-of-type {\n",
       "        vertical-align: middle;\n",
       "    }\n",
       "\n",
       "    .dataframe tbody tr th {\n",
       "        vertical-align: top;\n",
       "    }\n",
       "\n",
       "    .dataframe thead th {\n",
       "        text-align: right;\n",
       "    }\n",
       "</style>\n",
       "<table border=\"1\" class=\"dataframe\">\n",
       "  <thead>\n",
       "    <tr style=\"text-align: right;\">\n",
       "      <th></th>\n",
       "      <th>date</th>\n",
       "      <th>amount</th>\n",
       "      <th>result</th>\n",
       "      <th>card-holder</th>\n",
       "      <th>order</th>\n",
       "    </tr>\n",
       "    <tr>\n",
       "      <th>Name</th>\n",
       "      <th></th>\n",
       "      <th></th>\n",
       "      <th></th>\n",
       "      <th></th>\n",
       "      <th></th>\n",
       "    </tr>\n",
       "  </thead>\n",
       "  <tbody>\n",
       "    <tr>\n",
       "      <th>Kang</th>\n",
       "      <td>2017-01-01</td>\n",
       "      <td>500</td>\n",
       "      <td>confirmed</td>\n",
       "      <td>KB CARD</td>\n",
       "      <td>1</td>\n",
       "    </tr>\n",
       "    <tr>\n",
       "      <th>Kim</th>\n",
       "      <td>2017-01-03</td>\n",
       "      <td>700</td>\n",
       "      <td>confirmed</td>\n",
       "      <td>KB CARD</td>\n",
       "      <td>2</td>\n",
       "    </tr>\n",
       "    <tr>\n",
       "      <th>Choi</th>\n",
       "      <td>2017-01-03</td>\n",
       "      <td>900</td>\n",
       "      <td>confirmed</td>\n",
       "      <td>KB CARD</td>\n",
       "      <td>3</td>\n",
       "    </tr>\n",
       "    <tr>\n",
       "      <th>Park</th>\n",
       "      <td>2017-01-05</td>\n",
       "      <td>800</td>\n",
       "      <td>confirmed</td>\n",
       "      <td>KB CARD</td>\n",
       "      <td>4</td>\n",
       "    </tr>\n",
       "    <tr>\n",
       "      <th>Lee</th>\n",
       "      <td>2017-01-07</td>\n",
       "      <td>500</td>\n",
       "      <td>cancelled</td>\n",
       "      <td>KB CARD</td>\n",
       "      <td>5</td>\n",
       "    </tr>\n",
       "    <tr>\n",
       "      <th>Yoon</th>\n",
       "      <td>2017-01-09</td>\n",
       "      <td>700</td>\n",
       "      <td>confirmed</td>\n",
       "      <td>KB CARD</td>\n",
       "      <td>6</td>\n",
       "    </tr>\n",
       "    <tr>\n",
       "      <th>Jang</th>\n",
       "      <td>2017-01-09</td>\n",
       "      <td>600</td>\n",
       "      <td>cancelled</td>\n",
       "      <td>KB CARD</td>\n",
       "      <td>7</td>\n",
       "    </tr>\n",
       "    <tr>\n",
       "      <th>Ko</th>\n",
       "      <td>2017-01-10</td>\n",
       "      <td>200</td>\n",
       "      <td>cancelled</td>\n",
       "      <td>KB CARD</td>\n",
       "      <td>8</td>\n",
       "    </tr>\n",
       "  </tbody>\n",
       "</table>\n",
       "</div>"
      ],
      "text/plain": [
       "           date  amount     result card-holder  order\n",
       "Name                                                 \n",
       "Kang 2017-01-01     500  confirmed     KB CARD      1\n",
       "Kim  2017-01-03     700  confirmed     KB CARD      2\n",
       "Choi 2017-01-03     900  confirmed     KB CARD      3\n",
       "Park 2017-01-05     800  confirmed     KB CARD      4\n",
       "Lee  2017-01-07     500  cancelled     KB CARD      5\n",
       "Yoon 2017-01-09     700  confirmed     KB CARD      6\n",
       "Jang 2017-01-09     600  cancelled     KB CARD      7\n",
       "Ko   2017-01-10     200  cancelled     KB CARD      8"
      ]
     },
     "execution_count": 116,
     "metadata": {},
     "output_type": "execute_result"
    }
   ],
   "source": [
    "# 개수만 정확하게 맞으면 들어감 결제순서를 알고싶다고 해서 데이터 넣는다고 하면?\n",
    "transaction[\"order\"] = [1,2,3,4,5,6,7,8]\n",
    "transaction"
   ]
  },
  {
   "cell_type": "code",
   "execution_count": 119,
   "metadata": {},
   "outputs": [
    {
     "data": {
      "text/html": [
       "<div>\n",
       "<style scoped>\n",
       "    .dataframe tbody tr th:only-of-type {\n",
       "        vertical-align: middle;\n",
       "    }\n",
       "\n",
       "    .dataframe tbody tr th {\n",
       "        vertical-align: top;\n",
       "    }\n",
       "\n",
       "    .dataframe thead th {\n",
       "        text-align: right;\n",
       "    }\n",
       "</style>\n",
       "<table border=\"1\" class=\"dataframe\">\n",
       "  <thead>\n",
       "    <tr style=\"text-align: right;\">\n",
       "      <th></th>\n",
       "      <th>date</th>\n",
       "      <th>amount</th>\n",
       "      <th>result</th>\n",
       "      <th>card-holder</th>\n",
       "      <th>order</th>\n",
       "      <th>VIP</th>\n",
       "    </tr>\n",
       "    <tr>\n",
       "      <th>Name</th>\n",
       "      <th></th>\n",
       "      <th></th>\n",
       "      <th></th>\n",
       "      <th></th>\n",
       "      <th></th>\n",
       "      <th></th>\n",
       "    </tr>\n",
       "  </thead>\n",
       "  <tbody>\n",
       "    <tr>\n",
       "      <th>Kang</th>\n",
       "      <td>2017-01-01</td>\n",
       "      <td>500</td>\n",
       "      <td>confirmed</td>\n",
       "      <td>KB CARD</td>\n",
       "      <td>1</td>\n",
       "      <td>True</td>\n",
       "    </tr>\n",
       "    <tr>\n",
       "      <th>Kim</th>\n",
       "      <td>2017-01-03</td>\n",
       "      <td>700</td>\n",
       "      <td>confirmed</td>\n",
       "      <td>KB CARD</td>\n",
       "      <td>2</td>\n",
       "      <td>True</td>\n",
       "    </tr>\n",
       "    <tr>\n",
       "      <th>Choi</th>\n",
       "      <td>2017-01-03</td>\n",
       "      <td>900</td>\n",
       "      <td>confirmed</td>\n",
       "      <td>KB CARD</td>\n",
       "      <td>3</td>\n",
       "      <td>True</td>\n",
       "    </tr>\n",
       "    <tr>\n",
       "      <th>Park</th>\n",
       "      <td>2017-01-05</td>\n",
       "      <td>800</td>\n",
       "      <td>confirmed</td>\n",
       "      <td>KB CARD</td>\n",
       "      <td>4</td>\n",
       "      <td>True</td>\n",
       "    </tr>\n",
       "    <tr>\n",
       "      <th>Lee</th>\n",
       "      <td>2017-01-07</td>\n",
       "      <td>500</td>\n",
       "      <td>cancelled</td>\n",
       "      <td>KB CARD</td>\n",
       "      <td>5</td>\n",
       "      <td>True</td>\n",
       "    </tr>\n",
       "    <tr>\n",
       "      <th>Yoon</th>\n",
       "      <td>2017-01-09</td>\n",
       "      <td>700</td>\n",
       "      <td>confirmed</td>\n",
       "      <td>KB CARD</td>\n",
       "      <td>6</td>\n",
       "      <td>True</td>\n",
       "    </tr>\n",
       "    <tr>\n",
       "      <th>Jang</th>\n",
       "      <td>2017-01-09</td>\n",
       "      <td>600</td>\n",
       "      <td>cancelled</td>\n",
       "      <td>KB CARD</td>\n",
       "      <td>7</td>\n",
       "      <td>True</td>\n",
       "    </tr>\n",
       "    <tr>\n",
       "      <th>Ko</th>\n",
       "      <td>2017-01-10</td>\n",
       "      <td>200</td>\n",
       "      <td>cancelled</td>\n",
       "      <td>KB CARD</td>\n",
       "      <td>8</td>\n",
       "      <td>False</td>\n",
       "    </tr>\n",
       "  </tbody>\n",
       "</table>\n",
       "</div>"
      ],
      "text/plain": [
       "           date  amount     result card-holder  order    VIP\n",
       "Name                                                        \n",
       "Kang 2017-01-01     500  confirmed     KB CARD      1   True\n",
       "Kim  2017-01-03     700  confirmed     KB CARD      2   True\n",
       "Choi 2017-01-03     900  confirmed     KB CARD      3   True\n",
       "Park 2017-01-05     800  confirmed     KB CARD      4   True\n",
       "Lee  2017-01-07     500  cancelled     KB CARD      5   True\n",
       "Yoon 2017-01-09     700  confirmed     KB CARD      6   True\n",
       "Jang 2017-01-09     600  cancelled     KB CARD      7   True\n",
       "Ko   2017-01-10     200  cancelled     KB CARD      8  False"
      ]
     },
     "execution_count": 119,
     "metadata": {},
     "output_type": "execute_result"
    }
   ],
   "source": [
    "#심화 >> 컬럼은 조건마다 이렇게 추가하고 저렇게 추가하라 \n",
    "over500 = transaction[\"amount\"] >= 500\n",
    "confirmed = transaction[\"result\"] == \"confirmed\"\n",
    "\n",
    "\n",
    "transaction[\"VIP\"] = transaction[\"amount\"] >= 500\n",
    "transaction"
   ]
  },
  {
   "cell_type": "code",
   "execution_count": 120,
   "metadata": {},
   "outputs": [
    {
     "data": {
      "text/html": [
       "<div>\n",
       "<style scoped>\n",
       "    .dataframe tbody tr th:only-of-type {\n",
       "        vertical-align: middle;\n",
       "    }\n",
       "\n",
       "    .dataframe tbody tr th {\n",
       "        vertical-align: top;\n",
       "    }\n",
       "\n",
       "    .dataframe thead th {\n",
       "        text-align: right;\n",
       "    }\n",
       "</style>\n",
       "<table border=\"1\" class=\"dataframe\">\n",
       "  <thead>\n",
       "    <tr style=\"text-align: right;\">\n",
       "      <th></th>\n",
       "      <th>date</th>\n",
       "      <th>amount</th>\n",
       "      <th>result</th>\n",
       "      <th>card-holder</th>\n",
       "      <th>order</th>\n",
       "      <th>VIP</th>\n",
       "      <th>Status</th>\n",
       "    </tr>\n",
       "    <tr>\n",
       "      <th>Name</th>\n",
       "      <th></th>\n",
       "      <th></th>\n",
       "      <th></th>\n",
       "      <th></th>\n",
       "      <th></th>\n",
       "      <th></th>\n",
       "      <th></th>\n",
       "    </tr>\n",
       "  </thead>\n",
       "  <tbody>\n",
       "    <tr>\n",
       "      <th>Kang</th>\n",
       "      <td>2017-01-01</td>\n",
       "      <td>500</td>\n",
       "      <td>confirmed</td>\n",
       "      <td>KB CARD</td>\n",
       "      <td>1</td>\n",
       "      <td>True</td>\n",
       "      <td>VIP</td>\n",
       "    </tr>\n",
       "    <tr>\n",
       "      <th>Kim</th>\n",
       "      <td>2017-01-03</td>\n",
       "      <td>700</td>\n",
       "      <td>confirmed</td>\n",
       "      <td>KB CARD</td>\n",
       "      <td>2</td>\n",
       "      <td>True</td>\n",
       "      <td>VIP</td>\n",
       "    </tr>\n",
       "    <tr>\n",
       "      <th>Choi</th>\n",
       "      <td>2017-01-03</td>\n",
       "      <td>900</td>\n",
       "      <td>confirmed</td>\n",
       "      <td>KB CARD</td>\n",
       "      <td>3</td>\n",
       "      <td>True</td>\n",
       "      <td>VIP</td>\n",
       "    </tr>\n",
       "    <tr>\n",
       "      <th>Park</th>\n",
       "      <td>2017-01-05</td>\n",
       "      <td>800</td>\n",
       "      <td>confirmed</td>\n",
       "      <td>KB CARD</td>\n",
       "      <td>4</td>\n",
       "      <td>True</td>\n",
       "      <td>VIP</td>\n",
       "    </tr>\n",
       "    <tr>\n",
       "      <th>Lee</th>\n",
       "      <td>2017-01-07</td>\n",
       "      <td>500</td>\n",
       "      <td>cancelled</td>\n",
       "      <td>KB CARD</td>\n",
       "      <td>5</td>\n",
       "      <td>True</td>\n",
       "      <td>VIP</td>\n",
       "    </tr>\n",
       "    <tr>\n",
       "      <th>Yoon</th>\n",
       "      <td>2017-01-09</td>\n",
       "      <td>700</td>\n",
       "      <td>confirmed</td>\n",
       "      <td>KB CARD</td>\n",
       "      <td>6</td>\n",
       "      <td>True</td>\n",
       "      <td>VIP</td>\n",
       "    </tr>\n",
       "    <tr>\n",
       "      <th>Jang</th>\n",
       "      <td>2017-01-09</td>\n",
       "      <td>600</td>\n",
       "      <td>cancelled</td>\n",
       "      <td>KB CARD</td>\n",
       "      <td>7</td>\n",
       "      <td>True</td>\n",
       "      <td>VIP</td>\n",
       "    </tr>\n",
       "    <tr>\n",
       "      <th>Ko</th>\n",
       "      <td>2017-01-10</td>\n",
       "      <td>200</td>\n",
       "      <td>cancelled</td>\n",
       "      <td>KB CARD</td>\n",
       "      <td>8</td>\n",
       "      <td>False</td>\n",
       "      <td>None</td>\n",
       "    </tr>\n",
       "  </tbody>\n",
       "</table>\n",
       "</div>"
      ],
      "text/plain": [
       "           date  amount     result card-holder  order    VIP Status\n",
       "Name                                                               \n",
       "Kang 2017-01-01     500  confirmed     KB CARD      1   True    VIP\n",
       "Kim  2017-01-03     700  confirmed     KB CARD      2   True    VIP\n",
       "Choi 2017-01-03     900  confirmed     KB CARD      3   True    VIP\n",
       "Park 2017-01-05     800  confirmed     KB CARD      4   True    VIP\n",
       "Lee  2017-01-07     500  cancelled     KB CARD      5   True    VIP\n",
       "Yoon 2017-01-09     700  confirmed     KB CARD      6   True    VIP\n",
       "Jang 2017-01-09     600  cancelled     KB CARD      7   True    VIP\n",
       "Ko   2017-01-10     200  cancelled     KB CARD      8  False   None"
      ]
     },
     "execution_count": 120,
     "metadata": {},
     "output_type": "execute_result"
    }
   ],
   "source": [
    "transaction.loc[transaction[\"amount\"]>=500, \"Status\"] = \"VIP\"\n",
    "transaction.loc[transaction[\"amount\"]<500, \"Status\"] = \"None\"\n",
    "transaction"
   ]
  },
  {
   "cell_type": "markdown",
   "metadata": {},
   "source": [
    "## apply 기능"
   ]
  },
  {
   "cell_type": "code",
   "execution_count": 126,
   "metadata": {},
   "outputs": [
    {
     "data": {
      "text/html": [
       "<div>\n",
       "<style scoped>\n",
       "    .dataframe tbody tr th:only-of-type {\n",
       "        vertical-align: middle;\n",
       "    }\n",
       "\n",
       "    .dataframe tbody tr th {\n",
       "        vertical-align: top;\n",
       "    }\n",
       "\n",
       "    .dataframe thead th {\n",
       "        text-align: right;\n",
       "    }\n",
       "</style>\n",
       "<table border=\"1\" class=\"dataframe\">\n",
       "  <thead>\n",
       "    <tr style=\"text-align: right;\">\n",
       "      <th></th>\n",
       "      <th>date</th>\n",
       "      <th>amount</th>\n",
       "      <th>result</th>\n",
       "      <th>card-holder</th>\n",
       "      <th>order</th>\n",
       "      <th>VIP</th>\n",
       "      <th>Status</th>\n",
       "    </tr>\n",
       "    <tr>\n",
       "      <th>Name</th>\n",
       "      <th></th>\n",
       "      <th></th>\n",
       "      <th></th>\n",
       "      <th></th>\n",
       "      <th></th>\n",
       "      <th></th>\n",
       "      <th></th>\n",
       "    </tr>\n",
       "  </thead>\n",
       "  <tbody>\n",
       "    <tr>\n",
       "      <th>Kang</th>\n",
       "      <td>2017-01-01</td>\n",
       "      <td>500</td>\n",
       "      <td>confirmed</td>\n",
       "      <td>KB CARD</td>\n",
       "      <td>1</td>\n",
       "      <td>True</td>\n",
       "      <td>VIP</td>\n",
       "    </tr>\n",
       "    <tr>\n",
       "      <th>Kim</th>\n",
       "      <td>2017-01-03</td>\n",
       "      <td>700</td>\n",
       "      <td>confirmed</td>\n",
       "      <td>KB CARD</td>\n",
       "      <td>2</td>\n",
       "      <td>True</td>\n",
       "      <td>None</td>\n",
       "    </tr>\n",
       "    <tr>\n",
       "      <th>Choi</th>\n",
       "      <td>2017-01-03</td>\n",
       "      <td>900</td>\n",
       "      <td>confirmed</td>\n",
       "      <td>KB CARD</td>\n",
       "      <td>3</td>\n",
       "      <td>True</td>\n",
       "      <td>None</td>\n",
       "    </tr>\n",
       "    <tr>\n",
       "      <th>Park</th>\n",
       "      <td>2017-01-05</td>\n",
       "      <td>800</td>\n",
       "      <td>confirmed</td>\n",
       "      <td>KB CARD</td>\n",
       "      <td>4</td>\n",
       "      <td>True</td>\n",
       "      <td>None</td>\n",
       "    </tr>\n",
       "    <tr>\n",
       "      <th>Lee</th>\n",
       "      <td>2017-01-07</td>\n",
       "      <td>500</td>\n",
       "      <td>cancelled</td>\n",
       "      <td>KB CARD</td>\n",
       "      <td>5</td>\n",
       "      <td>True</td>\n",
       "      <td>VIP</td>\n",
       "    </tr>\n",
       "    <tr>\n",
       "      <th>Yoon</th>\n",
       "      <td>2017-01-09</td>\n",
       "      <td>700</td>\n",
       "      <td>confirmed</td>\n",
       "      <td>KB CARD</td>\n",
       "      <td>6</td>\n",
       "      <td>True</td>\n",
       "      <td>None</td>\n",
       "    </tr>\n",
       "    <tr>\n",
       "      <th>Jang</th>\n",
       "      <td>2017-01-09</td>\n",
       "      <td>600</td>\n",
       "      <td>cancelled</td>\n",
       "      <td>KB CARD</td>\n",
       "      <td>7</td>\n",
       "      <td>True</td>\n",
       "      <td>None</td>\n",
       "    </tr>\n",
       "    <tr>\n",
       "      <th>Ko</th>\n",
       "      <td>2017-01-10</td>\n",
       "      <td>200</td>\n",
       "      <td>cancelled</td>\n",
       "      <td>KB CARD</td>\n",
       "      <td>8</td>\n",
       "      <td>False</td>\n",
       "      <td>VIP</td>\n",
       "    </tr>\n",
       "  </tbody>\n",
       "</table>\n",
       "</div>"
      ],
      "text/plain": [
       "           date  amount     result card-holder  order    VIP Status\n",
       "Name                                                               \n",
       "Kang 2017-01-01     500  confirmed     KB CARD      1   True    VIP\n",
       "Kim  2017-01-03     700  confirmed     KB CARD      2   True   None\n",
       "Choi 2017-01-03     900  confirmed     KB CARD      3   True   None\n",
       "Park 2017-01-05     800  confirmed     KB CARD      4   True   None\n",
       "Lee  2017-01-07     500  cancelled     KB CARD      5   True    VIP\n",
       "Yoon 2017-01-09     700  confirmed     KB CARD      6   True   None\n",
       "Jang 2017-01-09     600  cancelled     KB CARD      7   True   None\n",
       "Ko   2017-01-10     200  cancelled     KB CARD      8  False    VIP"
      ]
     },
     "execution_count": 126,
     "metadata": {},
     "output_type": "execute_result"
    }
   ],
   "source": [
    "# 언제 쓰냐? 같은 기능을 판다스로 안되면 파이썬으로\n",
    "def is_vip(amount):\n",
    "    if amount <= 500:\n",
    "        return \" VIP\"\n",
    "    else:\n",
    "        return \"None\"\n",
    "    \n",
    "transaction[\"Status\"] = transaction[\"amount\"].apply(is_vip)\n",
    "transaction"
   ]
  },
  {
   "cell_type": "code",
   "execution_count": 130,
   "metadata": {},
   "outputs": [
    {
     "data": {
      "text/html": [
       "<div>\n",
       "<style scoped>\n",
       "    .dataframe tbody tr th:only-of-type {\n",
       "        vertical-align: middle;\n",
       "    }\n",
       "\n",
       "    .dataframe tbody tr th {\n",
       "        vertical-align: top;\n",
       "    }\n",
       "\n",
       "    .dataframe thead th {\n",
       "        text-align: right;\n",
       "    }\n",
       "</style>\n",
       "<table border=\"1\" class=\"dataframe\">\n",
       "  <thead>\n",
       "    <tr style=\"text-align: right;\">\n",
       "      <th></th>\n",
       "      <th>date</th>\n",
       "      <th>amount</th>\n",
       "      <th>result</th>\n",
       "      <th>card-holder</th>\n",
       "      <th>order</th>\n",
       "      <th>VIP</th>\n",
       "      <th>Status</th>\n",
       "      <th>result(ko)</th>\n",
       "    </tr>\n",
       "    <tr>\n",
       "      <th>Name</th>\n",
       "      <th></th>\n",
       "      <th></th>\n",
       "      <th></th>\n",
       "      <th></th>\n",
       "      <th></th>\n",
       "      <th></th>\n",
       "      <th></th>\n",
       "      <th></th>\n",
       "    </tr>\n",
       "  </thead>\n",
       "  <tbody>\n",
       "    <tr>\n",
       "      <th>Kang</th>\n",
       "      <td>2017-01-01</td>\n",
       "      <td>500</td>\n",
       "      <td>confirmed</td>\n",
       "      <td>KB CARD</td>\n",
       "      <td>1</td>\n",
       "      <td>True</td>\n",
       "      <td>VIP</td>\n",
       "      <td>승인</td>\n",
       "    </tr>\n",
       "    <tr>\n",
       "      <th>Kim</th>\n",
       "      <td>2017-01-03</td>\n",
       "      <td>700</td>\n",
       "      <td>confirmed</td>\n",
       "      <td>KB CARD</td>\n",
       "      <td>2</td>\n",
       "      <td>True</td>\n",
       "      <td>None</td>\n",
       "      <td>승인</td>\n",
       "    </tr>\n",
       "    <tr>\n",
       "      <th>Choi</th>\n",
       "      <td>2017-01-03</td>\n",
       "      <td>900</td>\n",
       "      <td>confirmed</td>\n",
       "      <td>KB CARD</td>\n",
       "      <td>3</td>\n",
       "      <td>True</td>\n",
       "      <td>None</td>\n",
       "      <td>승인</td>\n",
       "    </tr>\n",
       "    <tr>\n",
       "      <th>Park</th>\n",
       "      <td>2017-01-05</td>\n",
       "      <td>800</td>\n",
       "      <td>confirmed</td>\n",
       "      <td>KB CARD</td>\n",
       "      <td>4</td>\n",
       "      <td>True</td>\n",
       "      <td>None</td>\n",
       "      <td>승인</td>\n",
       "    </tr>\n",
       "    <tr>\n",
       "      <th>Lee</th>\n",
       "      <td>2017-01-07</td>\n",
       "      <td>500</td>\n",
       "      <td>cancelled</td>\n",
       "      <td>KB CARD</td>\n",
       "      <td>5</td>\n",
       "      <td>True</td>\n",
       "      <td>VIP</td>\n",
       "      <td>취소</td>\n",
       "    </tr>\n",
       "    <tr>\n",
       "      <th>Yoon</th>\n",
       "      <td>2017-01-09</td>\n",
       "      <td>700</td>\n",
       "      <td>confirmed</td>\n",
       "      <td>KB CARD</td>\n",
       "      <td>6</td>\n",
       "      <td>True</td>\n",
       "      <td>None</td>\n",
       "      <td>승인</td>\n",
       "    </tr>\n",
       "    <tr>\n",
       "      <th>Jang</th>\n",
       "      <td>2017-01-09</td>\n",
       "      <td>600</td>\n",
       "      <td>cancelled</td>\n",
       "      <td>KB CARD</td>\n",
       "      <td>7</td>\n",
       "      <td>True</td>\n",
       "      <td>None</td>\n",
       "      <td>취소</td>\n",
       "    </tr>\n",
       "    <tr>\n",
       "      <th>Ko</th>\n",
       "      <td>2017-01-10</td>\n",
       "      <td>200</td>\n",
       "      <td>cancelled</td>\n",
       "      <td>KB CARD</td>\n",
       "      <td>8</td>\n",
       "      <td>False</td>\n",
       "      <td>VIP</td>\n",
       "      <td>취소</td>\n",
       "    </tr>\n",
       "  </tbody>\n",
       "</table>\n",
       "</div>"
      ],
      "text/plain": [
       "           date  amount     result card-holder  order    VIP Status result(ko)\n",
       "Name                                                                          \n",
       "Kang 2017-01-01     500  confirmed     KB CARD      1   True    VIP         승인\n",
       "Kim  2017-01-03     700  confirmed     KB CARD      2   True   None         승인\n",
       "Choi 2017-01-03     900  confirmed     KB CARD      3   True   None         승인\n",
       "Park 2017-01-05     800  confirmed     KB CARD      4   True   None         승인\n",
       "Lee  2017-01-07     500  cancelled     KB CARD      5   True    VIP         취소\n",
       "Yoon 2017-01-09     700  confirmed     KB CARD      6   True   None         승인\n",
       "Jang 2017-01-09     600  cancelled     KB CARD      7   True   None         취소\n",
       "Ko   2017-01-10     200  cancelled     KB CARD      8  False    VIP         취소"
      ]
     },
     "execution_count": 130,
     "metadata": {},
     "output_type": "execute_result"
    }
   ],
   "source": [
    "def translate_result(result):\n",
    "    if result == \"confirmed\":\n",
    "        return \"승인\"\n",
    "    else:\n",
    "        return \"취소\"\n",
    "\n",
    "transaction[\"result(ko)\"] = transaction[\"result\"].apply(translate_result)\n",
    "transaction"
   ]
  },
  {
   "cell_type": "markdown",
   "metadata": {},
   "source": [
    "## nan 처리"
   ]
  },
  {
   "cell_type": "code",
   "execution_count": 42,
   "metadata": {},
   "outputs": [],
   "source": [
    "import pandas as pd\n",
    "import numpy as np\n",
    "df = pd.DataFrame({'movie': ['thg', 'thg', 'mol', 'mol', 'lob', 'lob'],\n",
    "                  'rating': [3., 4., 5., np.nan, np.nan, np.nan],\n",
    "                  'name': ['John', np.nan, 'andy', 'Graham', np.nan, np.nan]})\n"
   ]
  },
  {
   "cell_type": "code",
   "execution_count": 43,
   "metadata": {},
   "outputs": [
    {
     "data": {
      "text/html": [
       "<div>\n",
       "<style scoped>\n",
       "    .dataframe tbody tr th:only-of-type {\n",
       "        vertical-align: middle;\n",
       "    }\n",
       "\n",
       "    .dataframe tbody tr th {\n",
       "        vertical-align: top;\n",
       "    }\n",
       "\n",
       "    .dataframe thead th {\n",
       "        text-align: right;\n",
       "    }\n",
       "</style>\n",
       "<table border=\"1\" class=\"dataframe\">\n",
       "  <thead>\n",
       "    <tr style=\"text-align: right;\">\n",
       "      <th></th>\n",
       "      <th>movie</th>\n",
       "      <th>rating</th>\n",
       "      <th>name</th>\n",
       "    </tr>\n",
       "  </thead>\n",
       "  <tbody>\n",
       "    <tr>\n",
       "      <th>0</th>\n",
       "      <td>thg</td>\n",
       "      <td>3.0</td>\n",
       "      <td>John</td>\n",
       "    </tr>\n",
       "    <tr>\n",
       "      <th>1</th>\n",
       "      <td>thg</td>\n",
       "      <td>4.0</td>\n",
       "      <td>NaN</td>\n",
       "    </tr>\n",
       "    <tr>\n",
       "      <th>2</th>\n",
       "      <td>mol</td>\n",
       "      <td>5.0</td>\n",
       "      <td>andy</td>\n",
       "    </tr>\n",
       "    <tr>\n",
       "      <th>3</th>\n",
       "      <td>mol</td>\n",
       "      <td>NaN</td>\n",
       "      <td>Graham</td>\n",
       "    </tr>\n",
       "    <tr>\n",
       "      <th>4</th>\n",
       "      <td>lob</td>\n",
       "      <td>NaN</td>\n",
       "      <td>NaN</td>\n",
       "    </tr>\n",
       "    <tr>\n",
       "      <th>5</th>\n",
       "      <td>lob</td>\n",
       "      <td>NaN</td>\n",
       "      <td>NaN</td>\n",
       "    </tr>\n",
       "  </tbody>\n",
       "</table>\n",
       "</div>"
      ],
      "text/plain": [
       "  movie  rating    name\n",
       "0   thg     3.0    John\n",
       "1   thg     4.0     NaN\n",
       "2   mol     5.0    andy\n",
       "3   mol     NaN  Graham\n",
       "4   lob     NaN     NaN\n",
       "5   lob     NaN     NaN"
      ]
     },
     "execution_count": 43,
     "metadata": {},
     "output_type": "execute_result"
    }
   ],
   "source": [
    "df"
   ]
  },
  {
   "cell_type": "code",
   "execution_count": 44,
   "metadata": {},
   "outputs": [],
   "source": [
    "filtered = df['name'].dropna()"
   ]
  },
  {
   "cell_type": "code",
   "execution_count": 45,
   "metadata": {},
   "outputs": [
    {
     "data": {
      "text/plain": [
       "0      John\n",
       "2      andy\n",
       "3    Graham\n",
       "Name: name, dtype: object"
      ]
     },
     "execution_count": 45,
     "metadata": {},
     "output_type": "execute_result"
    }
   ],
   "source": [
    "filtered"
   ]
  },
  {
   "cell_type": "code",
   "execution_count": null,
   "metadata": {},
   "outputs": [],
   "source": []
  }
 ],
 "metadata": {
  "kernelspec": {
   "display_name": "Python 3",
   "language": "python",
   "name": "python3"
  },
  "language_info": {
   "codemirror_mode": {
    "name": "ipython",
    "version": 3
   },
   "file_extension": ".py",
   "mimetype": "text/x-python",
   "name": "python",
   "nbconvert_exporter": "python",
   "pygments_lexer": "ipython3",
   "version": "3.7.0"
  }
 },
 "nbformat": 4,
 "nbformat_minor": 4
}
